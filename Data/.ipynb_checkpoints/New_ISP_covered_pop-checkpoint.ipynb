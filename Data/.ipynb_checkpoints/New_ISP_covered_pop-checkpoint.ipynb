{
 "cells": [
  {
   "cell_type": "code",
   "execution_count": 1,
   "metadata": {},
   "outputs": [],
   "source": [
    "import pandas as pd"
   ]
  },
  {
   "cell_type": "code",
   "execution_count": 37,
   "metadata": {},
   "outputs": [],
   "source": [
    "df2014 = pd.read_csv(\"ISP_overall_pop_2014.csv\")\n",
    "df2018 = pd.read_csv(\"ISP_overall_pop_2018.csv\")\n",
    "df = df2018.merge(df2014,on='HocoNum',how='left')[['HocoNum','population_x','population_y']].reset_index()\n",
    "df = df.rename(columns={'population_x':'pop2018','population_y':'pop2014'})"
   ]
  },
  {
   "cell_type": "code",
   "execution_count": 51,
   "metadata": {
    "scrolled": false
   },
   "outputs": [
    {
     "data": {
      "text/plain": [
       "TechType\n",
       "DOCSIS     1661380\n",
       "DSL        2032214\n",
       "FTTH       2518096\n",
       "Other     36257883\n",
       "Name: population, dtype: int64"
      ]
     },
     "execution_count": 51,
     "metadata": {},
     "output_type": "execute_result"
    }
   ],
   "source": [
    "new_isp_hoconum = df[pd.isna(df.pop2014)]['HocoNum'].values\n",
    "new_isp = list(set(new_isp_hoconum))\n",
    "type2018 = pd.read_csv(\"ISP_techtype_pop_2018.csv\")\n",
    "type2018[type2018.HocoNum.isin(new_isp)].groupby('TechType').population.sum()"
   ]
  }
 ],
 "metadata": {
  "kernelspec": {
   "display_name": "Python 3",
   "language": "python",
   "name": "python3"
  },
  "language_info": {
   "codemirror_mode": {
    "name": "ipython",
    "version": 3
   },
   "file_extension": ".py",
   "mimetype": "text/x-python",
   "name": "python",
   "nbconvert_exporter": "python",
   "pygments_lexer": "ipython3",
   "version": "3.7.0"
  }
 },
 "nbformat": 4,
 "nbformat_minor": 2
}
