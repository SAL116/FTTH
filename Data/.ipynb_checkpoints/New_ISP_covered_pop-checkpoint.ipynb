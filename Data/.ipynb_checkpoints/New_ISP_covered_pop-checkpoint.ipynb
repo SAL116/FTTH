{
 "cells": [
  {
   "cell_type": "code",
   "execution_count": 128,
   "metadata": {},
   "outputs": [],
   "source": [
    "import pandas as pd\n",
    "import numpy as np"
   ]
  },
  {
   "cell_type": "code",
   "execution_count": 37,
   "metadata": {},
   "outputs": [],
   "source": [
    "df2014 = pd.read_csv(\"ISP_overall_pop_2014.csv\")\n",
    "df2018 = pd.read_csv(\"ISP_overall_pop_2018.csv\")\n",
    "df = df2018.merge(df2014,on='HocoNum',how='left')[['HocoNum','population_x','population_y']].reset_index()\n",
    "df = df.rename(columns={'population_x':'pop2018','population_y':'pop2014'})"
   ]
  },
  {
   "cell_type": "code",
   "execution_count": 51,
   "metadata": {
    "scrolled": true
   },
   "outputs": [
    {
     "data": {
      "text/plain": [
       "TechType\n",
       "DOCSIS     1661380\n",
       "DSL        2032214\n",
       "FTTH       2518096\n",
       "Other     36257883\n",
       "Name: population, dtype: int64"
      ]
     },
     "execution_count": 51,
     "metadata": {},
     "output_type": "execute_result"
    }
   ],
   "source": [
    "new_isp_hoconum = df[pd.isna(df.pop2014)]['HocoNum'].values\n",
    "new_isp = list(set(new_isp_hoconum))\n",
    "type2018 = pd.read_csv(\"ISP_techtype_pop_2018.csv\")\n",
    "type2018[type2018.HocoNum.isin(new_isp)].groupby('TechType').population.sum()"
   ]
  },
  {
   "cell_type": "code",
   "execution_count": 118,
   "metadata": {},
   "outputs": [],
   "source": [
    "totalpop = df2018.groupby('HocoNum').sum()"
   ]
  },
  {
   "cell_type": "code",
   "execution_count": 119,
   "metadata": {},
   "outputs": [],
   "source": [
    "FTTH = type2018[type2018.TechType == 'FTTH'].groupby('HocoNum').population.sum().reset_index()\n",
    "FTTH.rename(columns={'population':'FTTH population'},inplace=True)\n",
    "quad = totalpop.merge(FTTH,how='left',on='HocoNum').groupby('HocoNum').sum().reset_index()\n",
    "quad.rename(columns={'population':'total population'},inplace=True)"
   ]
  },
  {
   "cell_type": "code",
   "execution_count": 97,
   "metadata": {
    "scrolled": true
   },
   "outputs": [],
   "source": [
    "name = pd.read_csv(\"HocoNumRef.csv\")\n",
    "name.HocoNum = name.HocoNum.astype('int64',inplace=True)\n",
    "name = name.drop_duplicates()[['HocoNum','HoldingCompanyName']]\n",
    "name = name.groupby('HocoNum').first().reset_index()"
   ]
  },
  {
   "cell_type": "code",
   "execution_count": 120,
   "metadata": {},
   "outputs": [],
   "source": [
    "quadout = quad.merge(name,how='left',on='HocoNum')"
   ]
  },
  {
   "cell_type": "code",
   "execution_count": 123,
   "metadata": {},
   "outputs": [
    {
     "data": {
      "text/html": [
       "<div>\n",
       "<style scoped>\n",
       "    .dataframe tbody tr th:only-of-type {\n",
       "        vertical-align: middle;\n",
       "    }\n",
       "\n",
       "    .dataframe tbody tr th {\n",
       "        vertical-align: top;\n",
       "    }\n",
       "\n",
       "    .dataframe thead th {\n",
       "        text-align: right;\n",
       "    }\n",
       "</style>\n",
       "<table border=\"1\" class=\"dataframe\">\n",
       "  <thead>\n",
       "    <tr style=\"text-align: right;\">\n",
       "      <th></th>\n",
       "      <th>HocoNum</th>\n",
       "      <th>HighSpeed</th>\n",
       "      <th>total population</th>\n",
       "      <th>FTTH population</th>\n",
       "      <th>HoldingCompanyName</th>\n",
       "    </tr>\n",
       "  </thead>\n",
       "  <tbody>\n",
       "  </tbody>\n",
       "</table>\n",
       "</div>"
      ],
      "text/plain": [
       "Empty DataFrame\n",
       "Columns: [HocoNum, HighSpeed, total population, FTTH population, HoldingCompanyName]\n",
       "Index: []"
      ]
     },
     "execution_count": 123,
     "metadata": {},
     "output_type": "execute_result"
    }
   ],
   "source": [
    "quadout[quadout['FTTH population']>quadout['total population']]"
   ]
  },
  {
   "cell_type": "code",
   "execution_count": 124,
   "metadata": {},
   "outputs": [],
   "source": [
    "quadout.to_csv(\"ISP_population.csv\",index=False)"
   ]
  },
  {
   "cell_type": "markdown",
   "metadata": {},
   "source": [
    "## Calculate Percentile"
   ]
  },
  {
   "cell_type": "code",
   "execution_count": 142,
   "metadata": {},
   "outputs": [
    {
     "data": {
      "text/plain": [
       "5.718419223214115"
      ]
     },
     "execution_count": 142,
     "metadata": {},
     "output_type": "execute_result"
    }
   ],
   "source": [
    "np.log10(np.percentile(quadout['total population'],95))"
   ]
  },
  {
   "cell_type": "code",
   "execution_count": 143,
   "metadata": {},
   "outputs": [
    {
     "data": {
      "text/plain": [
       "4.736920526863201"
      ]
     },
     "execution_count": 143,
     "metadata": {},
     "output_type": "execute_result"
    }
   ],
   "source": [
    "np.log10(np.percentile(quadout['FTTH population'],95))"
   ]
  },
  {
   "cell_type": "code",
   "execution_count": 156,
   "metadata": {},
   "outputs": [],
   "source": [
    "type2018_2 = type2018.groupby(['HocoNum','TechType']).sum().reset_index().merge(name,how='left',on='HocoNum')"
   ]
  },
  {
   "cell_type": "code",
   "execution_count": 161,
   "metadata": {},
   "outputs": [],
   "source": [
    "type2018_2.to_csv('ISP_overall_pop(nospeed)_2018.csv',index=False)"
   ]
  },
  {
   "cell_type": "code",
   "execution_count": 158,
   "metadata": {},
   "outputs": [],
   "source": [
    "type2014 = pd.read_csv(\"ISP_techtype_pop_2014.csv\")\n",
    "type2014_2 = type2014.groupby(['HocoNum','TechType']).sum().reset_index().merge(name,how='left',on='HocoNum')\n",
    "type2014_2.to_csv('ISP_overall_pop(nospeed)_2014.csv',index=False)"
   ]
  },
  {
   "cell_type": "code",
   "execution_count": null,
   "metadata": {},
   "outputs": [],
   "source": []
  }
 ],
 "metadata": {
  "kernelspec": {
   "display_name": "Python 3",
   "language": "python",
   "name": "python3"
  },
  "language_info": {
   "codemirror_mode": {
    "name": "ipython",
    "version": 3
   },
   "file_extension": ".py",
   "mimetype": "text/x-python",
   "name": "python",
   "nbconvert_exporter": "python",
   "pygments_lexer": "ipython3",
   "version": "3.7.0"
  }
 },
 "nbformat": 4,
 "nbformat_minor": 2
}
