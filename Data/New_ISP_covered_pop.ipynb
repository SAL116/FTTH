{
 "cells": [
  {
   "cell_type": "code",
   "execution_count": 128,
   "metadata": {},
   "outputs": [],
   "source": [
    "import pandas as pd\n",
    "import numpy as np"
   ]
  },
  {
   "cell_type": "code",
   "execution_count": 37,
   "metadata": {},
   "outputs": [],
   "source": [
    "df2014 = pd.read_csv(\"ISP_overall_pop_2014.csv\")\n",
    "df2018 = pd.read_csv(\"ISP_overall_pop_2018.csv\")\n",
    "df = df2018.merge(df2014,on='HocoNum',how='left')[['HocoNum','population_x','population_y']].reset_index()\n",
    "df = df.rename(columns={'population_x':'pop2018','population_y':'pop2014'})"
   ]
  },
  {
   "cell_type": "code",
   "execution_count": 51,
   "metadata": {
    "scrolled": true
   },
   "outputs": [
    {
     "data": {
      "text/plain": [
       "TechType\n",
       "DOCSIS     1661380\n",
       "DSL        2032214\n",
       "FTTH       2518096\n",
       "Other     36257883\n",
       "Name: population, dtype: int64"
      ]
     },
     "execution_count": 51,
     "metadata": {},
     "output_type": "execute_result"
    }
   ],
   "source": [
    "new_isp_hoconum = df[pd.isna(df.pop2014)]['HocoNum'].values\n",
    "new_isp = list(set(new_isp_hoconum))\n",
    "type2018 = pd.read_csv(\"ISP_techtype_pop_2018.csv\")\n",
    "type2018[type2018.HocoNum.isin(new_isp)].groupby('TechType').population.sum()"
   ]
  },
  {
   "cell_type": "code",
   "execution_count": 118,
   "metadata": {},
   "outputs": [],
   "source": [
    "totalpop = df2018.groupby('HocoNum').sum()"
   ]
  },
  {
   "cell_type": "code",
   "execution_count": 119,
   "metadata": {},
   "outputs": [],
   "source": [
    "FTTH = type2018[type2018.TechType == 'FTTH'].groupby('HocoNum').population.sum().reset_index()\n",
    "FTTH.rename(columns={'population':'FTTH population'},inplace=True)\n",
    "quad = totalpop.merge(FTTH,how='left',on='HocoNum').groupby('HocoNum').sum().reset_index()\n",
    "quad.rename(columns={'population':'total population'},inplace=True)"
   ]
  },
  {
   "cell_type": "code",
   "execution_count": 97,
   "metadata": {
    "scrolled": true
   },
   "outputs": [],
   "source": [
    "name = pd.read_csv(\"HocoNumRef.csv\")\n",
    "name.HocoNum = name.HocoNum.astype('int64',inplace=True)\n",
    "name = name.drop_duplicates()[['HocoNum','HoldingCompanyName']]\n",
    "name = name.groupby('HocoNum').first().reset_index()"
   ]
  },
  {
   "cell_type": "code",
   "execution_count": 120,
   "metadata": {},
   "outputs": [],
   "source": [
    "quadout = quad.merge(name,how='left',on='HocoNum')"
   ]
  },
  {
   "cell_type": "code",
   "execution_count": 123,
   "metadata": {
    "scrolled": true
   },
   "outputs": [
    {
     "data": {
      "text/html": [
       "<div>\n",
       "<style scoped>\n",
       "    .dataframe tbody tr th:only-of-type {\n",
       "        vertical-align: middle;\n",
       "    }\n",
       "\n",
       "    .dataframe tbody tr th {\n",
       "        vertical-align: top;\n",
       "    }\n",
       "\n",
       "    .dataframe thead th {\n",
       "        text-align: right;\n",
       "    }\n",
       "</style>\n",
       "<table border=\"1\" class=\"dataframe\">\n",
       "  <thead>\n",
       "    <tr style=\"text-align: right;\">\n",
       "      <th></th>\n",
       "      <th>HocoNum</th>\n",
       "      <th>HighSpeed</th>\n",
       "      <th>total population</th>\n",
       "      <th>FTTH population</th>\n",
       "      <th>HoldingCompanyName</th>\n",
       "    </tr>\n",
       "  </thead>\n",
       "  <tbody>\n",
       "  </tbody>\n",
       "</table>\n",
       "</div>"
      ],
      "text/plain": [
       "Empty DataFrame\n",
       "Columns: [HocoNum, HighSpeed, total population, FTTH population, HoldingCompanyName]\n",
       "Index: []"
      ]
     },
     "execution_count": 123,
     "metadata": {},
     "output_type": "execute_result"
    }
   ],
   "source": [
    "quadout[quadout['FTTH population']>quadout['total population']]"
   ]
  },
  {
   "cell_type": "code",
   "execution_count": 124,
   "metadata": {},
   "outputs": [],
   "source": [
    "quadout.to_csv(\"ISP_population.csv\",index=False)"
   ]
  },
  {
   "cell_type": "markdown",
   "metadata": {},
   "source": [
    "## Calculate Percentile"
   ]
  },
  {
   "cell_type": "code",
   "execution_count": 142,
   "metadata": {
    "scrolled": true
   },
   "outputs": [
    {
     "data": {
      "text/plain": [
       "5.718419223214115"
      ]
     },
     "execution_count": 142,
     "metadata": {},
     "output_type": "execute_result"
    }
   ],
   "source": [
    "np.log10(np.percentile(quadout['total population'],95))"
   ]
  },
  {
   "cell_type": "code",
   "execution_count": 143,
   "metadata": {
    "scrolled": true
   },
   "outputs": [
    {
     "data": {
      "text/plain": [
       "4.736920526863201"
      ]
     },
     "execution_count": 143,
     "metadata": {},
     "output_type": "execute_result"
    }
   ],
   "source": [
    "np.log10(np.percentile(quadout['FTTH population'],95))"
   ]
  },
  {
   "cell_type": "code",
   "execution_count": 156,
   "metadata": {},
   "outputs": [],
   "source": [
    "type2018_2 = type2018.groupby(['HocoNum','TechType']).sum().reset_index().merge(name,how='left',on='HocoNum')"
   ]
  },
  {
   "cell_type": "code",
   "execution_count": 161,
   "metadata": {},
   "outputs": [],
   "source": [
    "type2018_2.to_csv('ISP_overall_pop(nospeed)_2018.csv',index=False)"
   ]
  },
  {
   "cell_type": "code",
   "execution_count": 158,
   "metadata": {},
   "outputs": [],
   "source": [
    "type2014 = pd.read_csv(\"ISP_techtype_pop_2014.csv\")\n",
    "type2014_2 = type2014.groupby(['HocoNum','TechType']).sum().reset_index().merge(name,how='left',on='HocoNum')\n",
    "type2014_2.to_csv('ISP_overall_pop(nospeed)_2014.csv',index=False)"
   ]
  },
  {
   "cell_type": "code",
   "execution_count": 162,
   "metadata": {},
   "outputs": [],
   "source": [
    "sub = pd.read_csv(\"state_subsidies.csv\")"
   ]
  },
  {
   "cell_type": "code",
   "execution_count": 179,
   "metadata": {},
   "outputs": [
    {
     "data": {
      "text/plain": [
       "93.19999999999999"
      ]
     },
     "execution_count": 179,
     "metadata": {},
     "output_type": "execute_result"
    }
   ],
   "source": [
    "sub[~pd.isna(sub.Percent)].Percent.apply(lambda x:float(str(x)[:-1])).sum()"
   ]
  },
  {
   "cell_type": "code",
   "execution_count": 205,
   "metadata": {},
   "outputs": [],
   "source": [
    "sub = sub.fillna('0')"
   ]
  },
  {
   "cell_type": "code",
   "execution_count": 210,
   "metadata": {},
   "outputs": [],
   "source": [
    "sub = sub.drop(51)"
   ]
  },
  {
   "cell_type": "code",
   "execution_count": 184,
   "metadata": {},
   "outputs": [],
   "source": [
    "import matplotlib.pyplot as plt"
   ]
  },
  {
   "cell_type": "code",
   "execution_count": 212,
   "metadata": {},
   "outputs": [],
   "source": [
    "sub['Broadband Initiative'] = sub['Broadband Initiative'].apply(lambda x:float(str(x).strip()[1:].replace(',','')))"
   ]
  },
  {
   "cell_type": "code",
   "execution_count": 216,
   "metadata": {},
   "outputs": [],
   "source": [
    "sub['Federal'] = sub['Federal'].apply(lambda x:float(str(x).strip().replace('$','').replace(',','')))"
   ]
  },
  {
   "cell_type": "code",
   "execution_count": 219,
   "metadata": {},
   "outputs": [],
   "source": [
    "sub.to_csv('gov_subsidise.csv',index=False)"
   ]
  },
  {
   "cell_type": "markdown",
   "metadata": {},
   "source": [
    "# State FTTH pop"
   ]
  },
  {
   "cell_type": "code",
   "execution_count": 220,
   "metadata": {},
   "outputs": [],
   "source": [
    "pop14 = pd.read_csv(\"techtype_each_state_2014.csv\")\n",
    "pop18 = pd.read_csv(\"techtype_each_state_2018.csv\")"
   ]
  },
  {
   "cell_type": "code",
   "execution_count": 237,
   "metadata": {},
   "outputs": [],
   "source": [
    "pop142=pop14.groupby(['state','TechType']).population.sum().reset_index()\n",
    "pop182=pop18.groupby(['state','TechType']).population.sum().reset_index()"
   ]
  },
  {
   "cell_type": "code",
   "execution_count": 229,
   "metadata": {},
   "outputs": [],
   "source": [
    "FTTH_diff = pop18[pop18.TechType == 'FTTH'].groupby('state').population.sum() - pop14[pop14.TechType == 'FTTH'].groupby('state').population.sum()"
   ]
  },
  {
   "cell_type": "code",
   "execution_count": 233,
   "metadata": {},
   "outputs": [],
   "source": [
    "FTTH_diff.reset_index().to_csv(\"FTTH_state_pop_change.csv\",index=False)"
   ]
  },
  {
   "cell_type": "code",
   "execution_count": 239,
   "metadata": {},
   "outputs": [],
   "source": [
    "pop_2year = pop142.merge(pop182,on=[\"state\",'TechType'])"
   ]
  },
  {
   "cell_type": "code",
   "execution_count": 241,
   "metadata": {},
   "outputs": [],
   "source": [
    "pop_2year['change'] = pop_2year['population_y']- pop_2year['population_x']"
   ]
  },
  {
   "cell_type": "code",
   "execution_count": 243,
   "metadata": {},
   "outputs": [
    {
     "data": {
      "text/plain": [
       "TechType\n",
       "DOCSIS     4723524\n",
       "DSL        7261572\n",
       "FTTH      42280539\n",
       "Other      6192926\n",
       "Name: change, dtype: int64"
      ]
     },
     "execution_count": 243,
     "metadata": {},
     "output_type": "execute_result"
    }
   ],
   "source": [
    "pop_2year.groupby('TechType').change.sum()"
   ]
  },
  {
   "cell_type": "code",
   "execution_count": 255,
   "metadata": {},
   "outputs": [],
   "source": [
    "df = pd.read_csv(\"state_sub.csv\")"
   ]
  },
  {
   "cell_type": "code",
   "execution_count": 248,
   "metadata": {},
   "outputs": [
    {
     "data": {
      "text/html": [
       "<div>\n",
       "<style scoped>\n",
       "    .dataframe tbody tr th:only-of-type {\n",
       "        vertical-align: middle;\n",
       "    }\n",
       "\n",
       "    .dataframe tbody tr th {\n",
       "        vertical-align: top;\n",
       "    }\n",
       "\n",
       "    .dataframe thead th {\n",
       "        text-align: right;\n",
       "    }\n",
       "</style>\n",
       "<table border=\"1\" class=\"dataframe\">\n",
       "  <thead>\n",
       "    <tr style=\"text-align: right;\">\n",
       "      <th></th>\n",
       "      <th>HocoNum</th>\n",
       "      <th>TechType</th>\n",
       "      <th>HighSpeed</th>\n",
       "      <th>population</th>\n",
       "      <th>HoldingCompanyName</th>\n",
       "    </tr>\n",
       "  </thead>\n",
       "  <tbody>\n",
       "    <tr>\n",
       "      <th>356</th>\n",
       "      <td>130317</td>\n",
       "      <td>DOCSIS</td>\n",
       "      <td>1</td>\n",
       "      <td>110565393</td>\n",
       "      <td>Comcast Corporation</td>\n",
       "    </tr>\n",
       "    <tr>\n",
       "      <th>357</th>\n",
       "      <td>130317</td>\n",
       "      <td>FTTH</td>\n",
       "      <td>1</td>\n",
       "      <td>17963</td>\n",
       "      <td>Comcast Corporation</td>\n",
       "    </tr>\n",
       "  </tbody>\n",
       "</table>\n",
       "</div>"
      ],
      "text/plain": [
       "     HocoNum TechType  HighSpeed  population   HoldingCompanyName\n",
       "356   130317   DOCSIS          1   110565393  Comcast Corporation\n",
       "357   130317     FTTH          1       17963  Comcast Corporation"
      ]
     },
     "execution_count": 248,
     "metadata": {},
     "output_type": "execute_result"
    }
   ],
   "source": [
    "df[df.HoldingCompanyName=='Comcast Corporation']"
   ]
  },
  {
   "cell_type": "code",
   "execution_count": 257,
   "metadata": {},
   "outputs": [],
   "source": [
    "ftth_diff=FTTH_diff.reset_index()"
   ]
  },
  {
   "cell_type": "code",
   "execution_count": 262,
   "metadata": {},
   "outputs": [],
   "source": [
    "df.merge(ftth_diff,on='state').to_csv('new_state_pop_and_sub.csv',index=False)"
   ]
  },
  {
   "cell_type": "code",
   "execution_count": null,
   "metadata": {},
   "outputs": [],
   "source": []
  }
 ],
 "metadata": {
  "kernelspec": {
   "display_name": "Python 3",
   "language": "python",
   "name": "python3"
  },
  "language_info": {
   "codemirror_mode": {
    "name": "ipython",
    "version": 3
   },
   "file_extension": ".py",
   "mimetype": "text/x-python",
   "name": "python",
   "nbconvert_exporter": "python",
   "pygments_lexer": "ipython3",
   "version": "3.7.0"
  }
 },
 "nbformat": 4,
 "nbformat_minor": 2
}
