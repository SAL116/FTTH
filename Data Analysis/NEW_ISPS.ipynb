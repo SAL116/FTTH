{
 "cells": [
  {
   "cell_type": "code",
   "execution_count": 173,
   "metadata": {},
   "outputs": [],
   "source": [
    "import pandas as pd "
   ]
  },
  {
   "cell_type": "code",
   "execution_count": 174,
   "metadata": {},
   "outputs": [],
   "source": [
    "ISP_overall_pop_each_state_2018=pd.read_csv('ISP_overall_pop_each_state_2018.csv')"
   ]
  },
  {
   "cell_type": "code",
   "execution_count": 175,
   "metadata": {},
   "outputs": [],
   "source": [
    "ISP_techtype_each_state_2018=pd.read_csv('ISP_techtype_each_state_2018.csv')"
   ]
  },
  {
   "cell_type": "code",
   "execution_count": 176,
   "metadata": {},
   "outputs": [],
   "source": [
    "ISP_techtype_each_state_2014=pd.read_csv('ISP_techtype_each_state_2014.csv')"
   ]
  },
  {
   "cell_type": "code",
   "execution_count": 177,
   "metadata": {},
   "outputs": [],
   "source": [
    "ISP_2018=ISP_techtype_each_state_2018.HocoNum.values\n",
    "ISP_2014=ISP_techtype_each_state_2014.HocoNum.values"
   ]
  },
  {
   "cell_type": "code",
   "execution_count": 178,
   "metadata": {},
   "outputs": [],
   "source": [
    "new_ISP=[]\n",
    "for i in ISP_2018:\n",
    "    if i not in ISP_2014:\n",
    "        new_ISP.append(i)"
   ]
  },
  {
   "cell_type": "code",
   "execution_count": 179,
   "metadata": {},
   "outputs": [],
   "source": [
    "new_ISP = set(new_ISP)"
   ]
  },
  {
   "cell_type": "code",
   "execution_count": 180,
   "metadata": {},
   "outputs": [],
   "source": [
    "new_ISP=list(new_ISP)"
   ]
  },
  {
   "cell_type": "code",
   "execution_count": 181,
   "metadata": {},
   "outputs": [],
   "source": [
    "NEW_ISP_2018_ALL=ISP_techtype_each_state_2018.loc[ISP_techtype_each_state_2018['HocoNum'].isin (new_ISP)]"
   ]
  },
  {
   "cell_type": "code",
   "execution_count": 182,
   "metadata": {},
   "outputs": [],
   "source": [
    "import matplotlib.pyplot as plt"
   ]
  },
  {
   "cell_type": "code",
   "execution_count": null,
   "metadata": {},
   "outputs": [],
   "source": []
  },
  {
   "cell_type": "code",
   "execution_count": null,
   "metadata": {},
   "outputs": [],
   "source": []
  },
  {
   "cell_type": "code",
   "execution_count": 183,
   "metadata": {},
   "outputs": [],
   "source": [
    "df_group_by=NEW_ISP_2018_ALL.groupby(['TechType']).agg({'population':'sum'}).reset_index()\n"
   ]
  },
  {
   "cell_type": "code",
   "execution_count": 184,
   "metadata": {},
   "outputs": [
    {
     "data": {
      "text/html": [
       "<div>\n",
       "<style scoped>\n",
       "    .dataframe tbody tr th:only-of-type {\n",
       "        vertical-align: middle;\n",
       "    }\n",
       "\n",
       "    .dataframe tbody tr th {\n",
       "        vertical-align: top;\n",
       "    }\n",
       "\n",
       "    .dataframe thead th {\n",
       "        text-align: right;\n",
       "    }\n",
       "</style>\n",
       "<table border=\"1\" class=\"dataframe\">\n",
       "  <thead>\n",
       "    <tr style=\"text-align: right;\">\n",
       "      <th></th>\n",
       "      <th>TechType</th>\n",
       "      <th>population</th>\n",
       "    </tr>\n",
       "  </thead>\n",
       "  <tbody>\n",
       "    <tr>\n",
       "      <th>0</th>\n",
       "      <td>DOCSIS</td>\n",
       "      <td>1661380</td>\n",
       "    </tr>\n",
       "    <tr>\n",
       "      <th>1</th>\n",
       "      <td>DSL</td>\n",
       "      <td>2032214</td>\n",
       "    </tr>\n",
       "    <tr>\n",
       "      <th>2</th>\n",
       "      <td>FTTH</td>\n",
       "      <td>2518096</td>\n",
       "    </tr>\n",
       "    <tr>\n",
       "      <th>3</th>\n",
       "      <td>Other</td>\n",
       "      <td>36257883</td>\n",
       "    </tr>\n",
       "  </tbody>\n",
       "</table>\n",
       "</div>"
      ],
      "text/plain": [
       "  TechType  population\n",
       "0   DOCSIS     1661380\n",
       "1      DSL     2032214\n",
       "2     FTTH     2518096\n",
       "3    Other    36257883"
      ]
     },
     "execution_count": 184,
     "metadata": {},
     "output_type": "execute_result"
    }
   ],
   "source": [
    "df_group_by"
   ]
  },
  {
   "cell_type": "code",
   "execution_count": 185,
   "metadata": {},
   "outputs": [
    {
     "data": {
      "text/plain": [
       "<BarContainer object of 3 artists>"
      ]
     },
     "execution_count": 185,
     "metadata": {},
     "output_type": "execute_result"
    },
    {
     "data": {
      "image/png": "[encoded data removed]",
      "text/plain": [
       "<Figure size 432x288 with 1 Axes>"
      ]
     },
     "metadata": {
      "needs_background": "light"
     },
     "output_type": "display_data"
    }
   ],
   "source": [
    "plt.bar(y, x, align='center', alpha=0.5)"
   ]
  },
  {
   "cell_type": "code",
   "execution_count": 186,
   "metadata": {},
   "outputs": [],
   "source": [
    "x=list(df_group_by.population.values)"
   ]
  },
  {
   "cell_type": "code",
   "execution_count": 187,
   "metadata": {},
   "outputs": [],
   "source": [
    "y=list(df_group_by.TechType.values)"
   ]
  },
  {
   "cell_type": "code",
   "execution_count": 188,
   "metadata": {},
   "outputs": [],
   "source": [
    "x.remove(36257883)"
   ]
  },
  {
   "cell_type": "code",
   "execution_count": 189,
   "metadata": {},
   "outputs": [],
   "source": [
    "y.remove('Other')"
   ]
  },
  {
   "cell_type": "code",
   "execution_count": 190,
   "metadata": {},
   "outputs": [
    {
     "data": {
      "text/plain": [
       "<BarContainer object of 3 artists>"
      ]
     },
     "execution_count": 190,
     "metadata": {},
     "output_type": "execute_result"
    },
    {
     "data": {
      "image/png": "[encoded data removed]",
      "text/plain": [
       "<Figure size 432x288 with 1 Axes>"
      ]
     },
     "metadata": {
      "needs_background": "light"
     },
     "output_type": "display_data"
    }
   ],
   "source": [
    "plt.bar(y, x, align='center', alpha=0.5)"
   ]
  },
  {
   "cell_type": "code",
   "execution_count": null,
   "metadata": {},
   "outputs": [],
   "source": []
  },
  {
   "cell_type": "code",
   "execution_count": 191,
   "metadata": {},
   "outputs": [
    {
     "data": {
      "text/plain": [
       "Text(0.5, 1.0, 'Population Covered by Technology of New ISPs')"
      ]
     },
     "execution_count": 191,
     "metadata": {},
     "output_type": "execute_result"
    },
    {
     "data": {
      "image/png": "[encoded data removed]",
      "text/plain": [
       "<Figure size 432x288 with 1 Axes>"
      ]
     },
     "metadata": {},
     "output_type": "display_data"
    }
   ],
   "source": [
    "\n",
    "colors = ['gold', 'yellowgreen', 'lightcoral']\n",
    "explode = (0, 0, 0.1) \n",
    "\n",
    "\n",
    "plt.pie(x, explode=explode, labels=y, colors=colors,\n",
    "autopct='%1.1f%%', shadow=True, startangle=140)\n",
    "plt.title('Population Covered by Technology of New ISPs')\n"
   ]
  },
  {
   "cell_type": "code",
   "execution_count": 192,
   "metadata": {},
   "outputs": [
    {
     "data": {
      "text/html": [
       "<div>\n",
       "<style scoped>\n",
       "    .dataframe tbody tr th:only-of-type {\n",
       "        vertical-align: middle;\n",
       "    }\n",
       "\n",
       "    .dataframe tbody tr th {\n",
       "        vertical-align: top;\n",
       "    }\n",
       "\n",
       "    .dataframe thead th {\n",
       "        text-align: right;\n",
       "    }\n",
       "</style>\n",
       "<table border=\"1\" class=\"dataframe\">\n",
       "  <thead>\n",
       "    <tr style=\"text-align: right;\">\n",
       "      <th></th>\n",
       "      <th>state</th>\n",
       "      <th>population</th>\n",
       "    </tr>\n",
       "  </thead>\n",
       "  <tbody>\n",
       "    <tr>\n",
       "      <th>4</th>\n",
       "      <td>CA</td>\n",
       "      <td>14607114</td>\n",
       "    </tr>\n",
       "    <tr>\n",
       "      <th>42</th>\n",
       "      <td>TX</td>\n",
       "      <td>7651137</td>\n",
       "    </tr>\n",
       "    <tr>\n",
       "      <th>24</th>\n",
       "      <td>MO</td>\n",
       "      <td>2873941</td>\n",
       "    </tr>\n",
       "    <tr>\n",
       "      <th>33</th>\n",
       "      <td>NY</td>\n",
       "      <td>1781939</td>\n",
       "    </tr>\n",
       "    <tr>\n",
       "      <th>15</th>\n",
       "      <td>IN</td>\n",
       "      <td>1514701</td>\n",
       "    </tr>\n",
       "  </tbody>\n",
       "</table>\n",
       "</div>"
      ],
      "text/plain": [
       "   state  population\n",
       "4     CA    14607114\n",
       "42    TX     7651137\n",
       "24    MO     2873941\n",
       "33    NY     1781939\n",
       "15    IN     1514701"
      ]
     },
     "execution_count": 192,
     "metadata": {},
     "output_type": "execute_result"
    }
   ],
   "source": [
    "NEW_ISP_2018_ALL.groupby(['state']).agg({'population':'sum'}).reset_index().sort_values(by=['population'],ascending=False).head()"
   ]
  },
  {
   "cell_type": "code",
   "execution_count": 193,
   "metadata": {},
   "outputs": [],
   "source": [
    "NEW_ISP_FTTH=NEW_ISP_2018_ALL.loc[NEW_ISP_2018_ALL.TechType=='FTTH']"
   ]
  },
  {
   "cell_type": "code",
   "execution_count": 194,
   "metadata": {},
   "outputs": [],
   "source": [
    "NEW_ISP_NUM_FTTH=NEW_ISP_FTTH.groupby(['state']).agg({'HocoNum':'count'}).reset_index().sort_values(by=['HocoNum'],ascending=False)"
   ]
  },
  {
   "cell_type": "code",
   "execution_count": 203,
   "metadata": {},
   "outputs": [],
   "source": [
    "NEW_ISP_population_FTTH=NEW_ISP_FTTH.groupby(['state']).agg({'population':'sum'}).reset_index().sort_values(by=['population'],ascending=False)"
   ]
  },
  {
   "cell_type": "code",
   "execution_count": 196,
   "metadata": {},
   "outputs": [],
   "source": [
    "df_subs=pd.read_csv('state_subsidies.csv')"
   ]
  },
  {
   "cell_type": "code",
   "execution_count": 197,
   "metadata": {},
   "outputs": [],
   "source": [
    "df_state_name=pd.read_csv('states.csv')"
   ]
  },
  {
   "cell_type": "code",
   "execution_count": 200,
   "metadata": {},
   "outputs": [],
   "source": [
    "df_sub_state_name=pd.merge(df_subs, df_state_name, left_on='STATE', right_on='State',  how='left')"
   ]
  },
  {
   "cell_type": "code",
   "execution_count": 209,
   "metadata": {},
   "outputs": [
    {
     "data": {
      "text/html": [
       "<div>\n",
       "<style scoped>\n",
       "    .dataframe tbody tr th:only-of-type {\n",
       "        vertical-align: middle;\n",
       "    }\n",
       "\n",
       "    .dataframe tbody tr th {\n",
       "        vertical-align: top;\n",
       "    }\n",
       "\n",
       "    .dataframe thead th {\n",
       "        text-align: right;\n",
       "    }\n",
       "</style>\n",
       "<table border=\"1\" class=\"dataframe\">\n",
       "  <thead>\n",
       "    <tr style=\"text-align: right;\">\n",
       "      <th></th>\n",
       "      <th>STATE</th>\n",
       "      <th>Broadband Initiative</th>\n",
       "      <th>Federal</th>\n",
       "      <th>Percent</th>\n",
       "      <th>State</th>\n",
       "      <th>Abbreviation</th>\n",
       "    </tr>\n",
       "  </thead>\n",
       "  <tbody>\n",
       "    <tr>\n",
       "      <th>0</th>\n",
       "      <td>Alabama</td>\n",
       "      <td>$4,874,142.00</td>\n",
       "      <td>$91,596,026.00</td>\n",
       "      <td>2.60%</td>\n",
       "      <td>Alabama</td>\n",
       "      <td>AL</td>\n",
       "    </tr>\n",
       "    <tr>\n",
       "      <th>1</th>\n",
       "      <td>Alaska</td>\n",
       "      <td>$6,378,198.00</td>\n",
       "      <td>NaN</td>\n",
       "      <td>NaN</td>\n",
       "      <td>Alaska</td>\n",
       "      <td>AK</td>\n",
       "    </tr>\n",
       "    <tr>\n",
       "      <th>2</th>\n",
       "      <td>Arizona</td>\n",
       "      <td>$6,358,179.00</td>\n",
       "      <td>NaN</td>\n",
       "      <td>NaN</td>\n",
       "      <td>Arizona</td>\n",
       "      <td>AZ</td>\n",
       "    </tr>\n",
       "    <tr>\n",
       "      <th>3</th>\n",
       "      <td>Arkansas</td>\n",
       "      <td>$6,175,366.00</td>\n",
       "      <td>$102,131,393.00</td>\n",
       "      <td>2.90%</td>\n",
       "      <td>Arkansas</td>\n",
       "      <td>AR</td>\n",
       "    </tr>\n",
       "    <tr>\n",
       "      <th>4</th>\n",
       "      <td>California</td>\n",
       "      <td>$7,981,304.00</td>\n",
       "      <td>$350,064,330.00</td>\n",
       "      <td>10%</td>\n",
       "      <td>California</td>\n",
       "      <td>CA</td>\n",
       "    </tr>\n",
       "  </tbody>\n",
       "</table>\n",
       "</div>"
      ],
      "text/plain": [
       "        STATE Broadband Initiative            Federal Percent       State  \\\n",
       "0     Alabama       $4,874,142.00     $91,596,026.00    2.60%     Alabama   \n",
       "1      Alaska       $6,378,198.00                 NaN     NaN      Alaska   \n",
       "2     Arizona       $6,358,179.00                 NaN     NaN     Arizona   \n",
       "3    Arkansas       $6,175,366.00    $102,131,393.00    2.90%    Arkansas   \n",
       "4  California       $7,981,304.00    $350,064,330.00      10%  California   \n",
       "\n",
       "  Abbreviation  \n",
       "0           AL  \n",
       "1           AK  \n",
       "2           AZ  \n",
       "3           AR  \n",
       "4           CA  "
      ]
     },
     "execution_count": 209,
     "metadata": {},
     "output_type": "execute_result"
    }
   ],
   "source": [
    "df_sub_state_name.head()"
   ]
  },
  {
   "cell_type": "code",
   "execution_count": 205,
   "metadata": {},
   "outputs": [
    {
     "data": {
      "text/html": [
       "<div>\n",
       "<style scoped>\n",
       "    .dataframe tbody tr th:only-of-type {\n",
       "        vertical-align: middle;\n",
       "    }\n",
       "\n",
       "    .dataframe tbody tr th {\n",
       "        vertical-align: top;\n",
       "    }\n",
       "\n",
       "    .dataframe thead th {\n",
       "        text-align: right;\n",
       "    }\n",
       "</style>\n",
       "<table border=\"1\" class=\"dataframe\">\n",
       "  <thead>\n",
       "    <tr style=\"text-align: right;\">\n",
       "      <th></th>\n",
       "      <th>state</th>\n",
       "      <th>population</th>\n",
       "    </tr>\n",
       "  </thead>\n",
       "  <tbody>\n",
       "    <tr>\n",
       "      <th>4</th>\n",
       "      <td>CA</td>\n",
       "      <td>628092</td>\n",
       "    </tr>\n",
       "    <tr>\n",
       "      <th>8</th>\n",
       "      <td>GA</td>\n",
       "      <td>405504</td>\n",
       "    </tr>\n",
       "    <tr>\n",
       "      <th>22</th>\n",
       "      <td>MO</td>\n",
       "      <td>214673</td>\n",
       "    </tr>\n",
       "    <tr>\n",
       "      <th>36</th>\n",
       "      <td>TN</td>\n",
       "      <td>125976</td>\n",
       "    </tr>\n",
       "    <tr>\n",
       "      <th>29</th>\n",
       "      <td>NY</td>\n",
       "      <td>111583</td>\n",
       "    </tr>\n",
       "  </tbody>\n",
       "</table>\n",
       "</div>"
      ],
      "text/plain": [
       "   state  population\n",
       "4     CA      628092\n",
       "8     GA      405504\n",
       "22    MO      214673\n",
       "36    TN      125976\n",
       "29    NY      111583"
      ]
     },
     "execution_count": 205,
     "metadata": {},
     "output_type": "execute_result"
    }
   ],
   "source": [
    "NEW_ISP_population_FTTH.head()"
   ]
  },
  {
   "cell_type": "code",
   "execution_count": 206,
   "metadata": {},
   "outputs": [
    {
     "data": {
      "text/html": [
       "<div>\n",
       "<style scoped>\n",
       "    .dataframe tbody tr th:only-of-type {\n",
       "        vertical-align: middle;\n",
       "    }\n",
       "\n",
       "    .dataframe tbody tr th {\n",
       "        vertical-align: top;\n",
       "    }\n",
       "\n",
       "    .dataframe thead th {\n",
       "        text-align: right;\n",
       "    }\n",
       "</style>\n",
       "<table border=\"1\" class=\"dataframe\">\n",
       "  <thead>\n",
       "    <tr style=\"text-align: right;\">\n",
       "      <th></th>\n",
       "      <th>state</th>\n",
       "      <th>HocoNum</th>\n",
       "    </tr>\n",
       "  </thead>\n",
       "  <tbody>\n",
       "    <tr>\n",
       "      <th>4</th>\n",
       "      <td>CA</td>\n",
       "      <td>15</td>\n",
       "    </tr>\n",
       "    <tr>\n",
       "      <th>36</th>\n",
       "      <td>TN</td>\n",
       "      <td>11</td>\n",
       "    </tr>\n",
       "    <tr>\n",
       "      <th>5</th>\n",
       "      <td>CO</td>\n",
       "      <td>11</td>\n",
       "    </tr>\n",
       "    <tr>\n",
       "      <th>38</th>\n",
       "      <td>VA</td>\n",
       "      <td>8</td>\n",
       "    </tr>\n",
       "    <tr>\n",
       "      <th>22</th>\n",
       "      <td>MO</td>\n",
       "      <td>7</td>\n",
       "    </tr>\n",
       "  </tbody>\n",
       "</table>\n",
       "</div>"
      ],
      "text/plain": [
       "   state  HocoNum\n",
       "4     CA       15\n",
       "36    TN       11\n",
       "5     CO       11\n",
       "38    VA        8\n",
       "22    MO        7"
      ]
     },
     "execution_count": 206,
     "metadata": {},
     "output_type": "execute_result"
    }
   ],
   "source": [
    "NEW_ISP_NUM_FTTH.head()"
   ]
  },
  {
   "cell_type": "code",
   "execution_count": 359,
   "metadata": {},
   "outputs": [],
   "source": [
    "NEW_ISP_FTTH_POP_NUM=pd.merge(NEW_ISP_population_FTTH, NEW_ISP_NUM_FTTH, on='state',  how='left')\n",
    "\n"
   ]
  },
  {
   "cell_type": "code",
   "execution_count": 360,
   "metadata": {},
   "outputs": [],
   "source": [
    "NEW_ISP_SUBS_POP_NUM=pd.merge(df_sub_state_name, NEW_ISP_FTTH_POP_NUM, left_on='Abbreviation', right_on='state', how='left')\n"
   ]
  },
  {
   "cell_type": "code",
   "execution_count": 361,
   "metadata": {},
   "outputs": [],
   "source": [
    "NEW_ISP_SUBS_POP_NUM=NEW_ISP_SUBS_POP_NUM.drop(columns=['Abbreviation'])"
   ]
  },
  {
   "cell_type": "code",
   "execution_count": 362,
   "metadata": {},
   "outputs": [],
   "source": [
    "NEW_ISP_SUBS_POP_NUM=NEW_ISP_SUBS_POP_NUM.drop(columns=['State'])"
   ]
  },
  {
   "cell_type": "code",
   "execution_count": 363,
   "metadata": {},
   "outputs": [],
   "source": [
    "NEW_ISP_SUBS_POP_NUM=NEW_ISP_SUBS_POP_NUM.rename(columns={\"HocoNum\": \"Number_OF_NEW_ISP\", \"population\": \"Population_covered_by_new_ISP\"})"
   ]
  },
  {
   "cell_type": "code",
   "execution_count": 364,
   "metadata": {},
   "outputs": [
    {
     "data": {
      "text/html": [
       "<div>\n",
       "<style scoped>\n",
       "    .dataframe tbody tr th:only-of-type {\n",
       "        vertical-align: middle;\n",
       "    }\n",
       "\n",
       "    .dataframe tbody tr th {\n",
       "        vertical-align: top;\n",
       "    }\n",
       "\n",
       "    .dataframe thead th {\n",
       "        text-align: right;\n",
       "    }\n",
       "</style>\n",
       "<table border=\"1\" class=\"dataframe\">\n",
       "  <thead>\n",
       "    <tr style=\"text-align: right;\">\n",
       "      <th></th>\n",
       "      <th>STATE</th>\n",
       "      <th>Broadband Initiative</th>\n",
       "      <th>Federal</th>\n",
       "      <th>Percent</th>\n",
       "      <th>state</th>\n",
       "      <th>Population_covered_by_new_ISP</th>\n",
       "      <th>Number_OF_NEW_ISP</th>\n",
       "    </tr>\n",
       "  </thead>\n",
       "  <tbody>\n",
       "    <tr>\n",
       "      <th>4</th>\n",
       "      <td>California</td>\n",
       "      <td>$7,981,304.00</td>\n",
       "      <td>$350,064,330.00</td>\n",
       "      <td>10%</td>\n",
       "      <td>CA</td>\n",
       "      <td>628092.0</td>\n",
       "      <td>15.0</td>\n",
       "    </tr>\n",
       "    <tr>\n",
       "      <th>41</th>\n",
       "      <td>Tennessee</td>\n",
       "      <td>$4,479,620.00</td>\n",
       "      <td>$15,865,636.00</td>\n",
       "      <td>0.50%</td>\n",
       "      <td>TN</td>\n",
       "      <td>125976.0</td>\n",
       "      <td>11.0</td>\n",
       "    </tr>\n",
       "    <tr>\n",
       "      <th>5</th>\n",
       "      <td>Colorado</td>\n",
       "      <td>$5,382,082.00</td>\n",
       "      <td>$112,772,612.00</td>\n",
       "      <td>3.20%</td>\n",
       "      <td>CO</td>\n",
       "      <td>42594.0</td>\n",
       "      <td>11.0</td>\n",
       "    </tr>\n",
       "    <tr>\n",
       "      <th>46</th>\n",
       "      <td>Virginia</td>\n",
       "      <td>$8,099,979.00</td>\n",
       "      <td>$92,995,941.00</td>\n",
       "      <td>2.70%</td>\n",
       "      <td>VA</td>\n",
       "      <td>89464.0</td>\n",
       "      <td>8.0</td>\n",
       "    </tr>\n",
       "    <tr>\n",
       "      <th>24</th>\n",
       "      <td>Missouri</td>\n",
       "      <td>$6,573,382.00</td>\n",
       "      <td>$71,745,250.00</td>\n",
       "      <td>2.10%</td>\n",
       "      <td>MO</td>\n",
       "      <td>214673.0</td>\n",
       "      <td>7.0</td>\n",
       "    </tr>\n",
       "  </tbody>\n",
       "</table>\n",
       "</div>"
      ],
      "text/plain": [
       "         STATE Broadband Initiative            Federal Percent state  \\\n",
       "4   California       $7,981,304.00    $350,064,330.00      10%    CA   \n",
       "41   Tennessee       $4,479,620.00     $15,865,636.00    0.50%    TN   \n",
       "5     Colorado       $5,382,082.00    $112,772,612.00    3.20%    CO   \n",
       "46    Virginia       $8,099,979.00     $92,995,941.00    2.70%    VA   \n",
       "24    Missouri       $6,573,382.00     $71,745,250.00    2.10%    MO   \n",
       "\n",
       "    Population_covered_by_new_ISP  Number_OF_NEW_ISP  \n",
       "4                        628092.0               15.0  \n",
       "41                       125976.0               11.0  \n",
       "5                         42594.0               11.0  \n",
       "46                        89464.0                8.0  \n",
       "24                       214673.0                7.0  "
      ]
     },
     "execution_count": 364,
     "metadata": {},
     "output_type": "execute_result"
    }
   ],
   "source": [
    "NEW_ISP_SUBS_POP_NUM.sort_values(by=['Number_OF_NEW_ISP'],ascending=False).head()"
   ]
  },
  {
   "cell_type": "code",
   "execution_count": null,
   "metadata": {},
   "outputs": [],
   "source": []
  },
  {
   "cell_type": "code",
   "execution_count": 365,
   "metadata": {},
   "outputs": [],
   "source": [
    "NEW_ISP_SUBS_POP_NUM['Broadband Initiative']=(NEW_ISP_SUBS_POP_NUM['Broadband Initiative'].replace( '[\\$,)]','', regex=True )\n",
    "               .replace( '[(]','-',   regex=True ).astype(float))\n"
   ]
  },
  {
   "cell_type": "code",
   "execution_count": 366,
   "metadata": {},
   "outputs": [
    {
     "data": {
      "text/html": [
       "<div>\n",
       "<style scoped>\n",
       "    .dataframe tbody tr th:only-of-type {\n",
       "        vertical-align: middle;\n",
       "    }\n",
       "\n",
       "    .dataframe tbody tr th {\n",
       "        vertical-align: top;\n",
       "    }\n",
       "\n",
       "    .dataframe thead th {\n",
       "        text-align: right;\n",
       "    }\n",
       "</style>\n",
       "<table border=\"1\" class=\"dataframe\">\n",
       "  <thead>\n",
       "    <tr style=\"text-align: right;\">\n",
       "      <th></th>\n",
       "      <th>STATE</th>\n",
       "      <th>Broadband Initiative</th>\n",
       "      <th>Federal</th>\n",
       "      <th>Percent</th>\n",
       "      <th>state</th>\n",
       "      <th>Population_covered_by_new_ISP</th>\n",
       "      <th>Number_OF_NEW_ISP</th>\n",
       "    </tr>\n",
       "  </thead>\n",
       "  <tbody>\n",
       "    <tr>\n",
       "      <th>4</th>\n",
       "      <td>California</td>\n",
       "      <td>7981304.0</td>\n",
       "      <td>$350,064,330.00</td>\n",
       "      <td>10%</td>\n",
       "      <td>CA</td>\n",
       "      <td>628092.0</td>\n",
       "      <td>15.0</td>\n",
       "    </tr>\n",
       "    <tr>\n",
       "      <th>41</th>\n",
       "      <td>Tennessee</td>\n",
       "      <td>4479620.0</td>\n",
       "      <td>$15,865,636.00</td>\n",
       "      <td>0.50%</td>\n",
       "      <td>TN</td>\n",
       "      <td>125976.0</td>\n",
       "      <td>11.0</td>\n",
       "    </tr>\n",
       "    <tr>\n",
       "      <th>5</th>\n",
       "      <td>Colorado</td>\n",
       "      <td>5382082.0</td>\n",
       "      <td>$112,772,612.00</td>\n",
       "      <td>3.20%</td>\n",
       "      <td>CO</td>\n",
       "      <td>42594.0</td>\n",
       "      <td>11.0</td>\n",
       "    </tr>\n",
       "    <tr>\n",
       "      <th>46</th>\n",
       "      <td>Virginia</td>\n",
       "      <td>8099979.0</td>\n",
       "      <td>$92,995,941.00</td>\n",
       "      <td>2.70%</td>\n",
       "      <td>VA</td>\n",
       "      <td>89464.0</td>\n",
       "      <td>8.0</td>\n",
       "    </tr>\n",
       "    <tr>\n",
       "      <th>24</th>\n",
       "      <td>Missouri</td>\n",
       "      <td>6573382.0</td>\n",
       "      <td>$71,745,250.00</td>\n",
       "      <td>2.10%</td>\n",
       "      <td>MO</td>\n",
       "      <td>214673.0</td>\n",
       "      <td>7.0</td>\n",
       "    </tr>\n",
       "  </tbody>\n",
       "</table>\n",
       "</div>"
      ],
      "text/plain": [
       "         STATE  Broadband Initiative            Federal Percent state  \\\n",
       "4   California             7981304.0   $350,064,330.00      10%    CA   \n",
       "41   Tennessee             4479620.0    $15,865,636.00    0.50%    TN   \n",
       "5     Colorado             5382082.0   $112,772,612.00    3.20%    CO   \n",
       "46    Virginia             8099979.0    $92,995,941.00    2.70%    VA   \n",
       "24    Missouri             6573382.0    $71,745,250.00    2.10%    MO   \n",
       "\n",
       "    Population_covered_by_new_ISP  Number_OF_NEW_ISP  \n",
       "4                        628092.0               15.0  \n",
       "41                       125976.0               11.0  \n",
       "5                         42594.0               11.0  \n",
       "46                        89464.0                8.0  \n",
       "24                       214673.0                7.0  "
      ]
     },
     "execution_count": 366,
     "metadata": {},
     "output_type": "execute_result"
    }
   ],
   "source": [
    "NEW_ISP_SUBS_POP_NUM.sort_values(by=['Number_OF_NEW_ISP'],ascending=False).head()"
   ]
  },
  {
   "cell_type": "code",
   "execution_count": null,
   "metadata": {},
   "outputs": [],
   "source": []
  },
  {
   "cell_type": "code",
   "execution_count": null,
   "metadata": {},
   "outputs": [],
   "source": []
  },
  {
   "cell_type": "code",
   "execution_count": null,
   "metadata": {},
   "outputs": [],
   "source": []
  },
  {
   "cell_type": "code",
   "execution_count": null,
   "metadata": {},
   "outputs": [],
   "source": []
  },
  {
   "cell_type": "code",
   "execution_count": 368,
   "metadata": {},
   "outputs": [],
   "source": [
    "from sklearn.preprocessing import MinMaxScaler\n",
    "\n",
    "scaler = MinMaxScaler()\n",
    "NEW_ISP_SUBS_POP_NUM['Broadband Initiative scale'] = scaler.fit_transform(NEW_ISP_SUBS_POP_NUM[['Broadband Initiative']])\n"
   ]
  },
  {
   "cell_type": "code",
   "execution_count": 369,
   "metadata": {},
   "outputs": [],
   "source": [
    "NEW_ISP_SUBS_POP_NUM['Federal']=(NEW_ISP_SUBS_POP_NUM['Federal'].replace( '[\\$,)]','', regex=True )\n",
    "               .replace( '[(]','-',   regex=True ).astype(float))"
   ]
  },
  {
   "cell_type": "code",
   "execution_count": 370,
   "metadata": {},
   "outputs": [
    {
     "data": {
      "text/plain": [
       "3253438407.0"
      ]
     },
     "execution_count": 370,
     "metadata": {},
     "output_type": "execute_result"
    }
   ],
   "source": [
    "NEW_ISP_SUBS_POP_NUM.Federal.sum()\n"
   ]
  },
  {
   "cell_type": "code",
   "execution_count": 371,
   "metadata": {},
   "outputs": [
    {
     "data": {
      "text/html": [
       "<div>\n",
       "<style scoped>\n",
       "    .dataframe tbody tr th:only-of-type {\n",
       "        vertical-align: middle;\n",
       "    }\n",
       "\n",
       "    .dataframe tbody tr th {\n",
       "        vertical-align: top;\n",
       "    }\n",
       "\n",
       "    .dataframe thead th {\n",
       "        text-align: right;\n",
       "    }\n",
       "</style>\n",
       "<table border=\"1\" class=\"dataframe\">\n",
       "  <thead>\n",
       "    <tr style=\"text-align: right;\">\n",
       "      <th></th>\n",
       "      <th>STATE</th>\n",
       "      <th>Broadband Initiative</th>\n",
       "      <th>Federal</th>\n",
       "      <th>Percent</th>\n",
       "      <th>state</th>\n",
       "      <th>Population_covered_by_new_ISP</th>\n",
       "      <th>Number_OF_NEW_ISP</th>\n",
       "      <th>Broadband Initiative scale</th>\n",
       "    </tr>\n",
       "  </thead>\n",
       "  <tbody>\n",
       "    <tr>\n",
       "      <th>0</th>\n",
       "      <td>Alabama</td>\n",
       "      <td>4874142.0</td>\n",
       "      <td>91596026.0</td>\n",
       "      <td>2.60%</td>\n",
       "      <td>AL</td>\n",
       "      <td>22332.0</td>\n",
       "      <td>1.0</td>\n",
       "      <td>0.450153</td>\n",
       "    </tr>\n",
       "    <tr>\n",
       "      <th>1</th>\n",
       "      <td>Alaska</td>\n",
       "      <td>6378198.0</td>\n",
       "      <td>NaN</td>\n",
       "      <td>NaN</td>\n",
       "      <td>AK</td>\n",
       "      <td>425.0</td>\n",
       "      <td>2.0</td>\n",
       "      <td>0.654382</td>\n",
       "    </tr>\n",
       "    <tr>\n",
       "      <th>2</th>\n",
       "      <td>Arizona</td>\n",
       "      <td>6358179.0</td>\n",
       "      <td>NaN</td>\n",
       "      <td>NaN</td>\n",
       "      <td>AZ</td>\n",
       "      <td>225.0</td>\n",
       "      <td>1.0</td>\n",
       "      <td>0.651663</td>\n",
       "    </tr>\n",
       "    <tr>\n",
       "      <th>3</th>\n",
       "      <td>Arkansas</td>\n",
       "      <td>6175366.0</td>\n",
       "      <td>102131393.0</td>\n",
       "      <td>2.90%</td>\n",
       "      <td>AR</td>\n",
       "      <td>81843.0</td>\n",
       "      <td>5.0</td>\n",
       "      <td>0.626840</td>\n",
       "    </tr>\n",
       "    <tr>\n",
       "      <th>4</th>\n",
       "      <td>California</td>\n",
       "      <td>7981304.0</td>\n",
       "      <td>350064330.0</td>\n",
       "      <td>10%</td>\n",
       "      <td>CA</td>\n",
       "      <td>628092.0</td>\n",
       "      <td>15.0</td>\n",
       "      <td>0.872060</td>\n",
       "    </tr>\n",
       "  </tbody>\n",
       "</table>\n",
       "</div>"
      ],
      "text/plain": [
       "        STATE  Broadband Initiative      Federal Percent state  \\\n",
       "0     Alabama             4874142.0   91596026.0   2.60%    AL   \n",
       "1      Alaska             6378198.0          NaN     NaN    AK   \n",
       "2     Arizona             6358179.0          NaN     NaN    AZ   \n",
       "3    Arkansas             6175366.0  102131393.0   2.90%    AR   \n",
       "4  California             7981304.0  350064330.0     10%    CA   \n",
       "\n",
       "   Population_covered_by_new_ISP  Number_OF_NEW_ISP  \\\n",
       "0                        22332.0                1.0   \n",
       "1                          425.0                2.0   \n",
       "2                          225.0                1.0   \n",
       "3                        81843.0                5.0   \n",
       "4                       628092.0               15.0   \n",
       "\n",
       "   Broadband Initiative scale  \n",
       "0                    0.450153  \n",
       "1                    0.654382  \n",
       "2                    0.651663  \n",
       "3                    0.626840  \n",
       "4                    0.872060  "
      ]
     },
     "execution_count": 371,
     "metadata": {},
     "output_type": "execute_result"
    }
   ],
   "source": [
    "NEW_ISP_SUBS_POP_NUM.head()"
   ]
  },
  {
   "cell_type": "code",
   "execution_count": 372,
   "metadata": {},
   "outputs": [],
   "source": [
    "NEW_ISP_SUBS_POP_NUM['Percent'] = NEW_ISP_SUBS_POP_NUM['Percent'].str.replace('%', '')\n",
    "NEW_ISP_SUBS_POP_NUM['Percent'] = NEW_ISP_SUBS_POP_NUM['Percent'].astype(float)"
   ]
  },
  {
   "cell_type": "code",
   "execution_count": 373,
   "metadata": {},
   "outputs": [],
   "source": [
    "NEW_ISP_SUBS_POP_NUM=NEW_ISP_SUBS_POP_NUM.fillna(0)"
   ]
  },
  {
   "cell_type": "code",
   "execution_count": 374,
   "metadata": {},
   "outputs": [],
   "source": [
    "NEW_ISP_SUBS_POP_NUM.drop(NEW_ISP_SUBS_POP_NUM.tail(1).index,inplace=True)"
   ]
  },
  {
   "cell_type": "code",
   "execution_count": 375,
   "metadata": {},
   "outputs": [
    {
     "data": {
      "text/html": [
       "<div>\n",
       "<style scoped>\n",
       "    .dataframe tbody tr th:only-of-type {\n",
       "        vertical-align: middle;\n",
       "    }\n",
       "\n",
       "    .dataframe tbody tr th {\n",
       "        vertical-align: top;\n",
       "    }\n",
       "\n",
       "    .dataframe thead th {\n",
       "        text-align: right;\n",
       "    }\n",
       "</style>\n",
       "<table border=\"1\" class=\"dataframe\">\n",
       "  <thead>\n",
       "    <tr style=\"text-align: right;\">\n",
       "      <th></th>\n",
       "      <th>STATE</th>\n",
       "      <th>Broadband Initiative</th>\n",
       "      <th>Federal</th>\n",
       "      <th>Percent</th>\n",
       "      <th>state</th>\n",
       "      <th>Population_covered_by_new_ISP</th>\n",
       "      <th>Number_OF_NEW_ISP</th>\n",
       "      <th>Broadband Initiative scale</th>\n",
       "    </tr>\n",
       "  </thead>\n",
       "  <tbody>\n",
       "    <tr>\n",
       "      <th>0</th>\n",
       "      <td>Alabama</td>\n",
       "      <td>4874142.0</td>\n",
       "      <td>91596026.0</td>\n",
       "      <td>2.6</td>\n",
       "      <td>AL</td>\n",
       "      <td>22332.0</td>\n",
       "      <td>1.0</td>\n",
       "      <td>0.450153</td>\n",
       "    </tr>\n",
       "    <tr>\n",
       "      <th>1</th>\n",
       "      <td>Alaska</td>\n",
       "      <td>6378198.0</td>\n",
       "      <td>0.0</td>\n",
       "      <td>0.0</td>\n",
       "      <td>AK</td>\n",
       "      <td>425.0</td>\n",
       "      <td>2.0</td>\n",
       "      <td>0.654382</td>\n",
       "    </tr>\n",
       "    <tr>\n",
       "      <th>2</th>\n",
       "      <td>Arizona</td>\n",
       "      <td>6358179.0</td>\n",
       "      <td>0.0</td>\n",
       "      <td>0.0</td>\n",
       "      <td>AZ</td>\n",
       "      <td>225.0</td>\n",
       "      <td>1.0</td>\n",
       "      <td>0.651663</td>\n",
       "    </tr>\n",
       "    <tr>\n",
       "      <th>3</th>\n",
       "      <td>Arkansas</td>\n",
       "      <td>6175366.0</td>\n",
       "      <td>102131393.0</td>\n",
       "      <td>2.9</td>\n",
       "      <td>AR</td>\n",
       "      <td>81843.0</td>\n",
       "      <td>5.0</td>\n",
       "      <td>0.626840</td>\n",
       "    </tr>\n",
       "    <tr>\n",
       "      <th>4</th>\n",
       "      <td>California</td>\n",
       "      <td>7981304.0</td>\n",
       "      <td>350064330.0</td>\n",
       "      <td>10.0</td>\n",
       "      <td>CA</td>\n",
       "      <td>628092.0</td>\n",
       "      <td>15.0</td>\n",
       "      <td>0.872060</td>\n",
       "    </tr>\n",
       "  </tbody>\n",
       "</table>\n",
       "</div>"
      ],
      "text/plain": [
       "        STATE  Broadband Initiative      Federal  Percent state  \\\n",
       "0     Alabama             4874142.0   91596026.0      2.6    AL   \n",
       "1      Alaska             6378198.0          0.0      0.0    AK   \n",
       "2     Arizona             6358179.0          0.0      0.0    AZ   \n",
       "3    Arkansas             6175366.0  102131393.0      2.9    AR   \n",
       "4  California             7981304.0  350064330.0     10.0    CA   \n",
       "\n",
       "   Population_covered_by_new_ISP  Number_OF_NEW_ISP  \\\n",
       "0                        22332.0                1.0   \n",
       "1                          425.0                2.0   \n",
       "2                          225.0                1.0   \n",
       "3                        81843.0                5.0   \n",
       "4                       628092.0               15.0   \n",
       "\n",
       "   Broadband Initiative scale  \n",
       "0                    0.450153  \n",
       "1                    0.654382  \n",
       "2                    0.651663  \n",
       "3                    0.626840  \n",
       "4                    0.872060  "
      ]
     },
     "execution_count": 375,
     "metadata": {},
     "output_type": "execute_result"
    }
   ],
   "source": [
    "NEW_ISP_SUBS_POP_NUM.head()"
   ]
  },
  {
   "cell_type": "code",
   "execution_count": 386,
   "metadata": {},
   "outputs": [
    {
     "data": {
      "text/plain": [
       "Text(0.5, 0, 'Percent of Federal subsidy')"
      ]
     },
     "execution_count": 386,
     "metadata": {},
     "output_type": "execute_result"
    },
    {
     "data": {
      "image/png": "[encoded data removed]",
      "text/plain": [
       "<Figure size 432x288 with 1 Axes>"
      ]
     },
     "metadata": {
      "needs_background": "light"
     },
     "output_type": "display_data"
    }
   ],
   "source": [
    "x=list(NEW_ISP_SUBS_POP_NUM.Population_covered_by_new_ISP)\n",
    "y=list(NEW_ISP_SUBS_POP_NUM.Percent)\n",
    "\n",
    "plt.scatter(y, x, alpha=0.5)\n",
    "\n",
    "plt.ylabel('Population covered by new ISP')\n",
    "plt.xlabel('Percent of Federal subsidy')"
   ]
  },
  {
   "cell_type": "code",
   "execution_count": 385,
   "metadata": {},
   "outputs": [
    {
     "data": {
      "text/plain": [
       "Text(0.5, 0, 'Percent of Federal subsidy')"
      ]
     },
     "execution_count": 385,
     "metadata": {},
     "output_type": "execute_result"
    },
    {
     "data": {
      "image/png": "[encoded data removed]",
      "text/plain": [
       "<Figure size 432x288 with 1 Axes>"
      ]
     },
     "metadata": {
      "needs_background": "light"
     },
     "output_type": "display_data"
    }
   ],
   "source": [
    "x=list(NEW_ISP_SUBS_POP_NUM.Number_OF_NEW_ISP)\n",
    "y=list(NEW_ISP_SUBS_POP_NUM.Percent)\n",
    "\n",
    "plt.scatter(y, x, alpha=0.5)\n",
    "\n",
    "plt.ylabel('Number OF NEW ISPs')\n",
    "plt.xlabel('Percent of Federal subsidy')"
   ]
  },
  {
   "cell_type": "code",
   "execution_count": 382,
   "metadata": {},
   "outputs": [
    {
     "data": {
      "text/plain": [
       "Text(0.5, 0, 'Broadband Initiative')"
      ]
     },
     "execution_count": 382,
     "metadata": {},
     "output_type": "execute_result"
    },
    {
     "data": {
      "image/png": "[encoded data removed]",
      "text/plain": [
       "<Figure size 432x288 with 1 Axes>"
      ]
     },
     "metadata": {
      "needs_background": "light"
     },
     "output_type": "display_data"
    }
   ],
   "source": [
    "x=list(NEW_ISP_SUBS_POP_NUM.Population_covered_by_new_ISP)\n",
    "y=list(NEW_ISP_SUBS_POP_NUM[\"Broadband Initiative\"])\n",
    "\n",
    "plt.scatter(y, x, alpha=0.5)\n",
    "\n",
    "plt.ylabel('Population covered by new ISP')\n",
    "plt.xlabel('Broadband Initiative')"
   ]
  },
  {
   "cell_type": "code",
   "execution_count": 381,
   "metadata": {},
   "outputs": [
    {
     "data": {
      "text/plain": [
       "Text(0.5, 0, 'Broadband Initiative')"
      ]
     },
     "execution_count": 381,
     "metadata": {},
     "output_type": "execute_result"
    },
    {
     "data": {
      "image/png": "[encoded data removed]",
      "text/plain": [
       "<Figure size 432x288 with 1 Axes>"
      ]
     },
     "metadata": {
      "needs_background": "light"
     },
     "output_type": "display_data"
    }
   ],
   "source": [
    "x=list(NEW_ISP_SUBS_POP_NUM.Number_OF_NEW_ISP)\n",
    "y=list(NEW_ISP_SUBS_POP_NUM[\"Broadband Initiative\"])\n",
    "\n",
    "plt.scatter(y, x, alpha=0.5)\n",
    "\n",
    "plt.ylabel('Number OF NEW ISP')\n",
    "plt.xlabel('Broadband Initiative')"
   ]
  },
  {
   "cell_type": "code",
   "execution_count": 383,
   "metadata": {},
   "outputs": [
    {
     "data": {
      "text/plain": [
       "Text(0.5, 0, 'Scaled Broadband Initiative')"
      ]
     },
     "execution_count": 383,
     "metadata": {},
     "output_type": "execute_result"
    },
    {
     "data": {
      "image/png": "[encoded data removed]",
      "text/plain": [
       "<Figure size 432x288 with 1 Axes>"
      ]
     },
     "metadata": {
      "needs_background": "light"
     },
     "output_type": "display_data"
    }
   ],
   "source": [
    "x=list(NEW_ISP_SUBS_POP_NUM.Number_OF_NEW_ISP)\n",
    "y=list(NEW_ISP_SUBS_POP_NUM[\"Broadband Initiative scale\"])\n",
    "\n",
    "plt.scatter(y, x, alpha=0.5)\n",
    "\n",
    "plt.ylabel('Number OF NEW ISP')\n",
    "plt.xlabel('Scaled Broadband Initiative')"
   ]
  },
  {
   "cell_type": "code",
   "execution_count": null,
   "metadata": {},
   "outputs": [],
   "source": []
  },
  {
   "cell_type": "code",
   "execution_count": 388,
   "metadata": {},
   "outputs": [],
   "source": [
    "df_population_change=pd.read_csv('FTTH_state_pop_change.csv')"
   ]
  },
  {
   "cell_type": "code",
   "execution_count": 391,
   "metadata": {},
   "outputs": [],
   "source": [
    "df_population_change=df_population_change.rename(columns={\"population\": \"Population_change\"})"
   ]
  },
  {
   "cell_type": "code",
   "execution_count": 393,
   "metadata": {},
   "outputs": [
    {
     "data": {
      "text/html": [
       "<div>\n",
       "<style scoped>\n",
       "    .dataframe tbody tr th:only-of-type {\n",
       "        vertical-align: middle;\n",
       "    }\n",
       "\n",
       "    .dataframe tbody tr th {\n",
       "        vertical-align: top;\n",
       "    }\n",
       "\n",
       "    .dataframe thead th {\n",
       "        text-align: right;\n",
       "    }\n",
       "</style>\n",
       "<table border=\"1\" class=\"dataframe\">\n",
       "  <thead>\n",
       "    <tr style=\"text-align: right;\">\n",
       "      <th></th>\n",
       "      <th>STATE</th>\n",
       "      <th>Broadband Initiative</th>\n",
       "      <th>Federal</th>\n",
       "      <th>Percent</th>\n",
       "      <th>state</th>\n",
       "      <th>Population_covered_by_new_ISP</th>\n",
       "      <th>Number_OF_NEW_ISP</th>\n",
       "      <th>Broadband Initiative scale</th>\n",
       "    </tr>\n",
       "  </thead>\n",
       "  <tbody>\n",
       "    <tr>\n",
       "      <th>0</th>\n",
       "      <td>Alabama</td>\n",
       "      <td>4874142.0</td>\n",
       "      <td>91596026.0</td>\n",
       "      <td>2.6</td>\n",
       "      <td>AL</td>\n",
       "      <td>22332.0</td>\n",
       "      <td>1.0</td>\n",
       "      <td>0.450153</td>\n",
       "    </tr>\n",
       "    <tr>\n",
       "      <th>1</th>\n",
       "      <td>Alaska</td>\n",
       "      <td>6378198.0</td>\n",
       "      <td>0.0</td>\n",
       "      <td>0.0</td>\n",
       "      <td>AK</td>\n",
       "      <td>425.0</td>\n",
       "      <td>2.0</td>\n",
       "      <td>0.654382</td>\n",
       "    </tr>\n",
       "    <tr>\n",
       "      <th>2</th>\n",
       "      <td>Arizona</td>\n",
       "      <td>6358179.0</td>\n",
       "      <td>0.0</td>\n",
       "      <td>0.0</td>\n",
       "      <td>AZ</td>\n",
       "      <td>225.0</td>\n",
       "      <td>1.0</td>\n",
       "      <td>0.651663</td>\n",
       "    </tr>\n",
       "    <tr>\n",
       "      <th>3</th>\n",
       "      <td>Arkansas</td>\n",
       "      <td>6175366.0</td>\n",
       "      <td>102131393.0</td>\n",
       "      <td>2.9</td>\n",
       "      <td>AR</td>\n",
       "      <td>81843.0</td>\n",
       "      <td>5.0</td>\n",
       "      <td>0.626840</td>\n",
       "    </tr>\n",
       "    <tr>\n",
       "      <th>4</th>\n",
       "      <td>California</td>\n",
       "      <td>7981304.0</td>\n",
       "      <td>350064330.0</td>\n",
       "      <td>10.0</td>\n",
       "      <td>CA</td>\n",
       "      <td>628092.0</td>\n",
       "      <td>15.0</td>\n",
       "      <td>0.872060</td>\n",
       "    </tr>\n",
       "  </tbody>\n",
       "</table>\n",
       "</div>"
      ],
      "text/plain": [
       "        STATE  Broadband Initiative      Federal  Percent state  \\\n",
       "0     Alabama             4874142.0   91596026.0      2.6    AL   \n",
       "1      Alaska             6378198.0          0.0      0.0    AK   \n",
       "2     Arizona             6358179.0          0.0      0.0    AZ   \n",
       "3    Arkansas             6175366.0  102131393.0      2.9    AR   \n",
       "4  California             7981304.0  350064330.0     10.0    CA   \n",
       "\n",
       "   Population_covered_by_new_ISP  Number_OF_NEW_ISP  \\\n",
       "0                        22332.0                1.0   \n",
       "1                          425.0                2.0   \n",
       "2                          225.0                1.0   \n",
       "3                        81843.0                5.0   \n",
       "4                       628092.0               15.0   \n",
       "\n",
       "   Broadband Initiative scale  \n",
       "0                    0.450153  \n",
       "1                    0.654382  \n",
       "2                    0.651663  \n",
       "3                    0.626840  \n",
       "4                    0.872060  "
      ]
     },
     "execution_count": 393,
     "metadata": {},
     "output_type": "execute_result"
    }
   ],
   "source": [
    "NEW_ISP_SUBS_POP_NUM.head()"
   ]
  },
  {
   "cell_type": "code",
   "execution_count": 394,
   "metadata": {},
   "outputs": [],
   "source": [
    "\n",
    "\n",
    "NEW_ISP_SUBS_POP_NUM=pd.merge(NEW_ISP_SUBS_POP_NUM, df_population_change,on='state', how='left')\n"
   ]
  },
  {
   "cell_type": "code",
   "execution_count": 396,
   "metadata": {},
   "outputs": [
    {
     "data": {
      "text/html": [
       "<div>\n",
       "<style scoped>\n",
       "    .dataframe tbody tr th:only-of-type {\n",
       "        vertical-align: middle;\n",
       "    }\n",
       "\n",
       "    .dataframe tbody tr th {\n",
       "        vertical-align: top;\n",
       "    }\n",
       "\n",
       "    .dataframe thead th {\n",
       "        text-align: right;\n",
       "    }\n",
       "</style>\n",
       "<table border=\"1\" class=\"dataframe\">\n",
       "  <thead>\n",
       "    <tr style=\"text-align: right;\">\n",
       "      <th></th>\n",
       "      <th>STATE</th>\n",
       "      <th>Broadband Initiative</th>\n",
       "      <th>Federal</th>\n",
       "      <th>Percent</th>\n",
       "      <th>state</th>\n",
       "      <th>Population_covered_by_new_ISP</th>\n",
       "      <th>Number_OF_NEW_ISP</th>\n",
       "      <th>Broadband Initiative scale</th>\n",
       "      <th>Population_change</th>\n",
       "    </tr>\n",
       "  </thead>\n",
       "  <tbody>\n",
       "    <tr>\n",
       "      <th>0</th>\n",
       "      <td>Alabama</td>\n",
       "      <td>4874142.0</td>\n",
       "      <td>91596026.0</td>\n",
       "      <td>2.6</td>\n",
       "      <td>AL</td>\n",
       "      <td>22332.0</td>\n",
       "      <td>1.0</td>\n",
       "      <td>0.450153</td>\n",
       "      <td>974353.0</td>\n",
       "    </tr>\n",
       "    <tr>\n",
       "      <th>1</th>\n",
       "      <td>Alaska</td>\n",
       "      <td>6378198.0</td>\n",
       "      <td>0.0</td>\n",
       "      <td>0.0</td>\n",
       "      <td>AK</td>\n",
       "      <td>425.0</td>\n",
       "      <td>2.0</td>\n",
       "      <td>0.654382</td>\n",
       "      <td>19791.0</td>\n",
       "    </tr>\n",
       "    <tr>\n",
       "      <th>2</th>\n",
       "      <td>Arizona</td>\n",
       "      <td>6358179.0</td>\n",
       "      <td>0.0</td>\n",
       "      <td>0.0</td>\n",
       "      <td>AZ</td>\n",
       "      <td>225.0</td>\n",
       "      <td>1.0</td>\n",
       "      <td>0.651663</td>\n",
       "      <td>577284.0</td>\n",
       "    </tr>\n",
       "    <tr>\n",
       "      <th>3</th>\n",
       "      <td>Arkansas</td>\n",
       "      <td>6175366.0</td>\n",
       "      <td>102131393.0</td>\n",
       "      <td>2.9</td>\n",
       "      <td>AR</td>\n",
       "      <td>81843.0</td>\n",
       "      <td>5.0</td>\n",
       "      <td>0.626840</td>\n",
       "      <td>247841.0</td>\n",
       "    </tr>\n",
       "    <tr>\n",
       "      <th>4</th>\n",
       "      <td>California</td>\n",
       "      <td>7981304.0</td>\n",
       "      <td>350064330.0</td>\n",
       "      <td>10.0</td>\n",
       "      <td>CA</td>\n",
       "      <td>628092.0</td>\n",
       "      <td>15.0</td>\n",
       "      <td>0.872060</td>\n",
       "      <td>4914712.0</td>\n",
       "    </tr>\n",
       "  </tbody>\n",
       "</table>\n",
       "</div>"
      ],
      "text/plain": [
       "        STATE  Broadband Initiative      Federal  Percent state  \\\n",
       "0     Alabama             4874142.0   91596026.0      2.6    AL   \n",
       "1      Alaska             6378198.0          0.0      0.0    AK   \n",
       "2     Arizona             6358179.0          0.0      0.0    AZ   \n",
       "3    Arkansas             6175366.0  102131393.0      2.9    AR   \n",
       "4  California             7981304.0  350064330.0     10.0    CA   \n",
       "\n",
       "   Population_covered_by_new_ISP  Number_OF_NEW_ISP  \\\n",
       "0                        22332.0                1.0   \n",
       "1                          425.0                2.0   \n",
       "2                          225.0                1.0   \n",
       "3                        81843.0                5.0   \n",
       "4                       628092.0               15.0   \n",
       "\n",
       "   Broadband Initiative scale  Population_change  \n",
       "0                    0.450153           974353.0  \n",
       "1                    0.654382            19791.0  \n",
       "2                    0.651663           577284.0  \n",
       "3                    0.626840           247841.0  \n",
       "4                    0.872060          4914712.0  "
      ]
     },
     "execution_count": 396,
     "metadata": {},
     "output_type": "execute_result"
    }
   ],
   "source": [
    "NEW_ISP_SUBS_POP_NUM.head()"
   ]
  },
  {
   "cell_type": "code",
   "execution_count": 398,
   "metadata": {},
   "outputs": [
    {
     "data": {
      "text/plain": [
       "Text(0.5, 0, 'Percent')"
      ]
     },
     "execution_count": 398,
     "metadata": {},
     "output_type": "execute_result"
    },
    {
     "data": {
      "image/png": "[encoded data removed]",
      "text/plain": [
       "<Figure size 432x288 with 1 Axes>"
      ]
     },
     "metadata": {
      "needs_background": "light"
     },
     "output_type": "display_data"
    }
   ],
   "source": [
    "x=list(NEW_ISP_SUBS_POP_NUM.Population_change)\n",
    "y=list(NEW_ISP_SUBS_POP_NUM[\"Percent\"])\n",
    "\n",
    "plt.scatter(y, x, alpha=0.5)\n",
    "\n",
    "plt.ylabel('Population_change')\n",
    "plt.xlabel('Percent')"
   ]
  },
  {
   "cell_type": "code",
   "execution_count": 401,
   "metadata": {},
   "outputs": [
    {
     "data": {
      "text/plain": [
       "Text(0.5, 0, 'Broadband Initiative scale')"
      ]
     },
     "execution_count": 401,
     "metadata": {},
     "output_type": "execute_result"
    },
    {
     "data": {
      "image/png": "[encoded data removed]",
      "text/plain": [
       "<Figure size 432x288 with 1 Axes>"
      ]
     },
     "metadata": {
      "needs_background": "light"
     },
     "output_type": "display_data"
    }
   ],
   "source": [
    "x=list(NEW_ISP_SUBS_POP_NUM.Population_change)\n",
    "y=list(NEW_ISP_SUBS_POP_NUM[\"Broadband Initiative scale\"])\n",
    "\n",
    "plt.scatter(y, x, alpha=0.5)\n",
    "\n",
    "plt.ylabel('Population_change')\n",
    "plt.xlabel('Broadband Initiative scale')"
   ]
  },
  {
   "cell_type": "code",
   "execution_count": 408,
   "metadata": {},
   "outputs": [
    {
     "name": "stdout",
     "output_type": "stream",
     "text": [
      "                            OLS Regression Results                            \n",
      "==============================================================================\n",
      "Dep. Variable:      Number_OF_NEW_ISP   R-squared:                       0.358\n",
      "Model:                            OLS   Adj. R-squared:                  0.331\n",
      "Method:                 Least Squares   F-statistic:                     13.37\n",
      "Date:                Tue, 03 Dec 2019   Prob (F-statistic):           2.43e-05\n",
      "Time:                        17:28:29   Log-Likelihood:                -118.78\n",
      "No. Observations:                  51   AIC:                             243.6\n",
      "Df Residuals:                      48   BIC:                             249.4\n",
      "Df Model:                           2                                         \n",
      "Covariance Type:            nonrobust                                         \n",
      "==============================================================================================\n",
      "                                 coef    std err          t      P>|t|      [0.025      0.975]\n",
      "----------------------------------------------------------------------------------------------\n",
      "const                          0.2837      0.972      0.292      0.772      -1.670       2.237\n",
      "Broadband Initiative scale     2.5751      1.860      1.384      0.173      -1.166       6.316\n",
      "Percent                        0.8890      0.222      3.998      0.000       0.442       1.336\n",
      "==============================================================================\n",
      "Omnibus:                       18.112   Durbin-Watson:                   2.368\n",
      "Prob(Omnibus):                  0.000   Jarque-Bera (JB):               25.858\n",
      "Skew:                           1.190   Prob(JB):                     2.43e-06\n",
      "Kurtosis:                       5.549   Cond. No.                         15.3\n",
      "==============================================================================\n",
      "\n",
      "Warnings:\n",
      "[1] Standard Errors assume that the covariance matrix of the errors is correctly specified.\n"
     ]
    }
   ],
   "source": [
    "import pandas as pd\n",
    "import numpy as np\n",
    "from sklearn import datasets, linear_model\n",
    "from sklearn.linear_model import LinearRegression\n",
    "import statsmodels.api as sm\n",
    "from scipy import stats\n",
    "\n",
    "\n",
    "X = NEW_ISP_SUBS_POP_NUM[['Broadband Initiative scale','Percent']]\n",
    "y = NEW_ISP_SUBS_POP_NUM['Number_OF_NEW_ISP']\n",
    "\n",
    "X2 = sm.add_constant(X)\n",
    "est = sm.OLS(y, X2)\n",
    "est2 = est.fit()\n",
    "print(est2.summary())"
   ]
  },
  {
   "cell_type": "code",
   "execution_count": 402,
   "metadata": {},
   "outputs": [
    {
     "data": {
      "text/html": [
       "<div>\n",
       "<style scoped>\n",
       "    .dataframe tbody tr th:only-of-type {\n",
       "        vertical-align: middle;\n",
       "    }\n",
       "\n",
       "    .dataframe tbody tr th {\n",
       "        vertical-align: top;\n",
       "    }\n",
       "\n",
       "    .dataframe thead th {\n",
       "        text-align: right;\n",
       "    }\n",
       "</style>\n",
       "<table border=\"1\" class=\"dataframe\">\n",
       "  <thead>\n",
       "    <tr style=\"text-align: right;\">\n",
       "      <th></th>\n",
       "      <th>STATE</th>\n",
       "      <th>Broadband Initiative</th>\n",
       "      <th>Federal</th>\n",
       "      <th>Percent</th>\n",
       "      <th>state</th>\n",
       "      <th>Population_covered_by_new_ISP</th>\n",
       "      <th>Number_OF_NEW_ISP</th>\n",
       "      <th>Broadband Initiative scale</th>\n",
       "      <th>Population_change</th>\n",
       "    </tr>\n",
       "  </thead>\n",
       "  <tbody>\n",
       "    <tr>\n",
       "      <th>0</th>\n",
       "      <td>Alabama</td>\n",
       "      <td>4874142.0</td>\n",
       "      <td>91596026.0</td>\n",
       "      <td>2.6</td>\n",
       "      <td>AL</td>\n",
       "      <td>22332.0</td>\n",
       "      <td>1.0</td>\n",
       "      <td>0.450153</td>\n",
       "      <td>974353.0</td>\n",
       "    </tr>\n",
       "    <tr>\n",
       "      <th>1</th>\n",
       "      <td>Alaska</td>\n",
       "      <td>6378198.0</td>\n",
       "      <td>0.0</td>\n",
       "      <td>0.0</td>\n",
       "      <td>AK</td>\n",
       "      <td>425.0</td>\n",
       "      <td>2.0</td>\n",
       "      <td>0.654382</td>\n",
       "      <td>19791.0</td>\n",
       "    </tr>\n",
       "    <tr>\n",
       "      <th>2</th>\n",
       "      <td>Arizona</td>\n",
       "      <td>6358179.0</td>\n",
       "      <td>0.0</td>\n",
       "      <td>0.0</td>\n",
       "      <td>AZ</td>\n",
       "      <td>225.0</td>\n",
       "      <td>1.0</td>\n",
       "      <td>0.651663</td>\n",
       "      <td>577284.0</td>\n",
       "    </tr>\n",
       "    <tr>\n",
       "      <th>3</th>\n",
       "      <td>Arkansas</td>\n",
       "      <td>6175366.0</td>\n",
       "      <td>102131393.0</td>\n",
       "      <td>2.9</td>\n",
       "      <td>AR</td>\n",
       "      <td>81843.0</td>\n",
       "      <td>5.0</td>\n",
       "      <td>0.626840</td>\n",
       "      <td>247841.0</td>\n",
       "    </tr>\n",
       "    <tr>\n",
       "      <th>4</th>\n",
       "      <td>California</td>\n",
       "      <td>7981304.0</td>\n",
       "      <td>350064330.0</td>\n",
       "      <td>10.0</td>\n",
       "      <td>CA</td>\n",
       "      <td>628092.0</td>\n",
       "      <td>15.0</td>\n",
       "      <td>0.872060</td>\n",
       "      <td>4914712.0</td>\n",
       "    </tr>\n",
       "  </tbody>\n",
       "</table>\n",
       "</div>"
      ],
      "text/plain": [
       "        STATE  Broadband Initiative      Federal  Percent state  \\\n",
       "0     Alabama             4874142.0   91596026.0      2.6    AL   \n",
       "1      Alaska             6378198.0          0.0      0.0    AK   \n",
       "2     Arizona             6358179.0          0.0      0.0    AZ   \n",
       "3    Arkansas             6175366.0  102131393.0      2.9    AR   \n",
       "4  California             7981304.0  350064330.0     10.0    CA   \n",
       "\n",
       "   Population_covered_by_new_ISP  Number_OF_NEW_ISP  \\\n",
       "0                        22332.0                1.0   \n",
       "1                          425.0                2.0   \n",
       "2                          225.0                1.0   \n",
       "3                        81843.0                5.0   \n",
       "4                       628092.0               15.0   \n",
       "\n",
       "   Broadband Initiative scale  Population_change  \n",
       "0                    0.450153           974353.0  \n",
       "1                    0.654382            19791.0  \n",
       "2                    0.651663           577284.0  \n",
       "3                    0.626840           247841.0  \n",
       "4                    0.872060          4914712.0  "
      ]
     },
     "execution_count": 402,
     "metadata": {},
     "output_type": "execute_result"
    }
   ],
   "source": [
    "NEW_ISP_SUBS_POP_NUM.head()"
   ]
  },
  {
   "cell_type": "code",
   "execution_count": 410,
   "metadata": {},
   "outputs": [],
   "source": [
    "NEW_ISP_SUBS_POP_NUM.to_csv(r'合.csv')"
   ]
  },
  {
   "cell_type": "code",
   "execution_count": null,
   "metadata": {},
   "outputs": [],
   "source": []
  }
 ],
 "metadata": {
  "kernelspec": {
   "display_name": "Python 3",
   "language": "python",
   "name": "python3"
  },
  "language_info": {
   "codemirror_mode": {
    "name": "ipython",
    "version": 3
   },
   "file_extension": ".py",
   "mimetype": "text/x-python",
   "name": "python",
   "nbconvert_exporter": "python",
   "pygments_lexer": "ipython3",
   "version": "3.7.3"
  }
 },
 "nbformat": 4,
 "nbformat_minor": 2
}
