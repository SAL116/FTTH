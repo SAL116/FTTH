{
 "cells": [
  {
   "cell_type": "code",
   "execution_count": 1,
   "metadata": {},
   "outputs": [],
   "source": [
    "import pandas as pd\n",
    "import numpy as np\n",
    "import matplotlib.pyplot as plt\n",
    "from sklearn.cluster import KMeans\n",
    "from sklearn.decomposition import PCA as sklearnPCA\n",
    "from sklearn.discriminant_analysis import LinearDiscriminantAnalysis as LDA\n",
    "from sklearn.datasets.samples_generator import make_blobs\n",
    "from sklearn import preprocessing\n",
    "%matplotlib inline"
   ]
  },
  {
   "cell_type": "code",
   "execution_count": 32,
   "metadata": {},
   "outputs": [],
   "source": [
    "temp1 = pd.read_csv('nst-est2018-alldata.csv')\n",
    "temp2 = pd.read_csv('state_reference.csv')"
   ]
  },
  {
   "cell_type": "code",
   "execution_count": 33,
   "metadata": {},
   "outputs": [],
   "source": [
    "temp3 = pd.merge(temp1,temp2, on = 'NAME', how = 'outer')"
   ]
  },
  {
   "cell_type": "code",
   "execution_count": 61,
   "metadata": {},
   "outputs": [
    {
     "data": {
      "text/plain": [
       "(51, 6)"
      ]
     },
     "execution_count": 61,
     "metadata": {},
     "output_type": "execute_result"
    }
   ],
   "source": [
    "temp4 = temp3[['StateAbbr','NPOPCHG_2014','NPOPCHG_2015','NPOPCHG_2016','NPOPCHG_2017','NPOPCHG_2018']]\n",
    "temp4 = temp4.iloc[5:-1,:]\n",
    "temp4.shape"
   ]
  },
  {
   "cell_type": "code",
   "execution_count": 2,
   "metadata": {},
   "outputs": [
    {
     "data": {
      "text/plain": [
       "Index(['StateAbbr', 'avgaddown', 'avgadup', 'consumer', 'dec2014_v3',\n",
       "       'dec2015_v4', 'dec2016_v2', 'dec2017_v2', 'jun2015_v4', 'jun2016_v3',\n",
       "       'jun2017_v2', 'jun2018_v1', 'maxaddown', 'maxadup', 'BoardbandBlocks',\n",
       "       'HoldingCompanyName'],\n",
       "      dtype='object')"
      ]
     },
     "execution_count": 2,
     "metadata": {},
     "output_type": "execute_result"
    }
   ],
   "source": [
    "data = pd.read_csv('states.csv')\n",
    "data.columns"
   ]
  },
  {
   "cell_type": "code",
   "execution_count": 3,
   "metadata": {},
   "outputs": [],
   "source": [
    "data_2014_12=data[data.dec2014_v3==1]\n",
    "data_2015_6=data[data.jun2015_v4==1]\n",
    "data_2015_12=data[data.dec2015_v4==1]\n",
    "data_2016_6=data[data.jun2016_v3==1]\n",
    "data_2016_12=data[data.dec2016_v2==1]\n",
    "data_2017_6=data[data.jun2017_v2==1]\n",
    "data_2017_12=data[data.dec2017_v2==1]\n",
    "data_2018_6=data[data.jun2018_v1==1]"
   ]
  },
  {
   "cell_type": "code",
   "execution_count": 96,
   "metadata": {
    "scrolled": true
   },
   "outputs": [
    {
     "data": {
      "text/plain": [
       "array([[-0.04819679, -0.09598877,  0.13222033, -0.27731092,  0.00888202,\n",
       "         0.0868011 ],\n",
       "       [ 0.13047172,  0.10930413,  0.09890885,  0.33613445,  0.01067378,\n",
       "         0.09834341]])"
      ]
     },
     "execution_count": 96,
     "metadata": {},
     "output_type": "execute_result"
    }
   ],
   "source": [
    "data_2015=pd.merge(data_2014_12,data_2015_6, on = 'StateAbbr', how = 'outer')\n",
    "data_2015 = data_2015.fillna(0)\n",
    "data_2015 = pd.merge(data_2015,temp4, on = 'StateAbbr', how = 'inner')\n",
    "data_2015['avgaddown'] = data_2015.avgaddown_y - data_2015.avgaddown_x\n",
    "data_2015['avgadup'] = data_2015.avgadup_y - data_2015.avgadup_x\n",
    "data_2015['consumer'] = data_2015.consumer_y -data_2015.consumer_x\n",
    "data_2015['HoldingCompanyName'] = data_2015.HoldingCompanyName_y - data_2015.HoldingCompanyName_x\n",
    "data_2015['BoardbandBlocks'] = data_2015.BoardbandBlocks_y - data_2015.BoardbandBlocks_x\n",
    "data_2015['population'] = data_2015.NPOPCHG_2015\n",
    "data_2015 = data_2015[['StateAbbr','avgaddown','avgadup','consumer','HoldingCompanyName','BoardbandBlocks','population']]\n",
    "model_data_2015 = data_2015[['avgaddown','avgadup','consumer','HoldingCompanyName','BoardbandBlocks','population']]\n",
    "scaled_data = preprocessing.MaxAbsScaler().fit_transform(model_data_2015)\n",
    "Kmean = KMeans(n_clusters=2)\n",
    "Kmean.fit(scaled_data)\n",
    "data_2015['group']=Kmean.labels_\n",
    "Kmean.cluster_centers_"
   ]
  },
  {
   "cell_type": "code",
   "execution_count": 97,
   "metadata": {},
   "outputs": [
    {
     "data": {
      "text/plain": [
       "array([[ 0.17206134,  0.07668669, -0.0393994 , -0.31818182,  0.08526081,\n",
       "         0.0582198 ],\n",
       "       [ 0.13227923,  0.07151871,  0.02178891,  0.56896552,  0.1033419 ,\n",
       "         0.11524965]])"
      ]
     },
     "execution_count": 97,
     "metadata": {},
     "output_type": "execute_result"
    }
   ],
   "source": [
    "data_2015_second_half=pd.merge(data_2015_6,data_2015_12, on = 'StateAbbr', how = 'outer')\n",
    "data_2015_second_half = data_2015_second_half.fillna(0)\n",
    "data_2015_second_half = pd.merge(data_2015_second_half,temp4, on = 'StateAbbr', how = 'inner')\n",
    "data_2015_second_half['avgaddown'] = data_2015_second_half.avgaddown_y - data_2015_second_half.avgaddown_x\n",
    "data_2015_second_half['avgadup'] = data_2015_second_half.avgadup_y - data_2015_second_half.avgadup_x\n",
    "data_2015_second_half['consumer'] = data_2015_second_half.consumer_y -data_2015_second_half.consumer_x\n",
    "data_2015_second_half['HoldingCompanyName'] = data_2015_second_half.HoldingCompanyName_y - data_2015_second_half.HoldingCompanyName_x\n",
    "data_2015_second_half['BoardbandBlocks'] = data_2015_second_half.BoardbandBlocks_y - data_2015_second_half.BoardbandBlocks_x\n",
    "data_2015_second_half['population'] = data_2015_second_half.NPOPCHG_2015\n",
    "data_2015_second_half = data_2015_second_half[['StateAbbr','avgaddown','avgadup','consumer','HoldingCompanyName','BoardbandBlocks','population']]\n",
    "model_data_2015_second_half = data_2015_second_half[['avgaddown','avgadup','consumer','HoldingCompanyName','BoardbandBlocks','population']]\n",
    "scaled_data = preprocessing.MaxAbsScaler().fit_transform(model_data_2015_second_half)\n",
    "Kmean = KMeans(n_clusters=2)\n",
    "Kmean.fit(scaled_data)\n",
    "data_2015_second_half['group']=Kmean.labels_\n",
    "Kmean.cluster_centers_"
   ]
  },
  {
   "cell_type": "code",
   "execution_count": 101,
   "metadata": {},
   "outputs": [
    {
     "data": {
      "text/plain": [
       "array([[ 0.14073789,  0.09347041,  0.05502472, -0.05555556,  0.04811532,\n",
       "         0.06015768],\n",
       "       [ 0.35893815,  0.27886614,  0.16406142,  0.61111111,  0.20233614,\n",
       "         0.14761574]])"
      ]
     },
     "execution_count": 101,
     "metadata": {},
     "output_type": "execute_result"
    }
   ],
   "source": [
    "data_2016_first_half=pd.merge(data_2015_12,data_2016_6, on = 'StateAbbr', how = 'outer')\n",
    "data_2016_first_half = data_2016_first_half.fillna(0)\n",
    "data_2016_first_half = pd.merge(data_2016_first_half,temp4, on = 'StateAbbr', how = 'inner')\n",
    "data_2016_first_half['avgaddown'] = data_2016_first_half.avgaddown_y - data_2016_first_half.avgaddown_x\n",
    "data_2016_first_half['avgadup'] = data_2016_first_half.avgadup_y - data_2016_first_half.avgadup_x\n",
    "data_2016_first_half['consumer'] = data_2016_first_half.consumer_y -data_2016_first_half.consumer_x\n",
    "data_2016_first_half['HoldingCompanyName'] = data_2016_first_half.HoldingCompanyName_y - data_2016_first_half.HoldingCompanyName_x\n",
    "data_2016_first_half['BoardbandBlocks'] = data_2016_first_half.BoardbandBlocks_y - data_2016_first_half.BoardbandBlocks_x\n",
    "data_2016_first_half['population'] = data_2016_first_half.NPOPCHG_2016\n",
    "data_2016_first_half = data_2016_first_half[['StateAbbr','avgaddown','avgadup','consumer','HoldingCompanyName','BoardbandBlocks','population']]\n",
    "model_data_2016_first_half = data_2016_first_half[['avgaddown','avgadup','consumer','HoldingCompanyName','BoardbandBlocks','population']]\n",
    "scaled_data = preprocessing.MaxAbsScaler().fit_transform(model_data_2016_first_half)\n",
    "Kmean = KMeans(n_clusters=2)\n",
    "Kmean.fit(scaled_data)\n",
    "data_2016_first_half['group']=Kmean.labels_\n",
    "Kmean.cluster_centers_"
   ]
  },
  {
   "cell_type": "code",
   "execution_count": 102,
   "metadata": {},
   "outputs": [
    {
     "data": {
      "text/plain": [
       "array([[ 0.41317375,  0.28779517,  0.02207366, -0.27555556,  0.18029881,\n",
       "         0.09742193],\n",
       "       [ 0.10280028,  0.02504308, -0.00181495,  0.24786325,  0.15539762,\n",
       "         0.10505718]])"
      ]
     },
     "execution_count": 102,
     "metadata": {},
     "output_type": "execute_result"
    }
   ],
   "source": [
    "data_2016_second_half=pd.merge(data_2016_6,data_2016_12, on = 'StateAbbr', how = 'outer')\n",
    "data_2016_second_half = data_2016_second_half.fillna(0)\n",
    "data_2016_second_half = pd.merge(data_2016_second_half,temp4, on = 'StateAbbr', how = 'inner')\n",
    "data_2016_second_half['avgaddown'] = data_2016_second_half.avgaddown_y - data_2016_second_half.avgaddown_x\n",
    "data_2016_second_half['avgadup'] = data_2016_second_half.avgadup_y - data_2016_second_half.avgadup_x\n",
    "data_2016_second_half['consumer'] = data_2016_second_half.consumer_y -data_2016_second_half.consumer_x\n",
    "data_2016_second_half['HoldingCompanyName'] = data_2016_second_half.HoldingCompanyName_y - data_2016_second_half.HoldingCompanyName_x\n",
    "data_2016_second_half['BoardbandBlocks'] = data_2016_second_half.BoardbandBlocks_y - data_2016_second_half.BoardbandBlocks_x\n",
    "data_2016_second_half['population'] = data_2016_second_half.NPOPCHG_2016\n",
    "data_2016_second_half = data_2016_second_half[['StateAbbr','avgaddown','avgadup','consumer','HoldingCompanyName','BoardbandBlocks','population']]\n",
    "model_data_2016_second_half = data_2016_second_half[['avgaddown','avgadup','consumer','HoldingCompanyName','BoardbandBlocks','population']]\n",
    "scaled_data = preprocessing.MaxAbsScaler().fit_transform(model_data_2016_second_half)\n",
    "Kmean = KMeans(n_clusters=2)\n",
    "Kmean.fit(scaled_data)\n",
    "data_2016_second_half['group']=Kmean.labels_\n",
    "Kmean.cluster_centers_"
   ]
  },
  {
   "cell_type": "code",
   "execution_count": 103,
   "metadata": {},
   "outputs": [
    {
     "data": {
      "text/plain": [
       "array([[ 0.34046696,  0.21090963,  0.08019109,  0.13022113,  0.02850183,\n",
       "         0.08791355],\n",
       "       [-0.15801829, -0.19708152,  0.27135109,  0.3961039 ,  0.22801966,\n",
       "         0.13673098]])"
      ]
     },
     "execution_count": 103,
     "metadata": {},
     "output_type": "execute_result"
    }
   ],
   "source": [
    "data_2017_first_half=pd.merge(data_2016_12,data_2017_6, on = 'StateAbbr', how = 'outer')\n",
    "data_2017_first_half = data_2017_first_half.fillna(0)\n",
    "data_2017_first_half = pd.merge(data_2017_first_half,temp4, on = 'StateAbbr', how = 'inner')\n",
    "data_2017_first_half['avgaddown'] = data_2017_first_half.avgaddown_y - data_2017_first_half.avgaddown_x\n",
    "data_2017_first_half['avgadup'] = data_2017_first_half.avgadup_y - data_2017_first_half.avgadup_x\n",
    "data_2017_first_half['consumer'] = data_2017_first_half.consumer_y -data_2017_first_half.consumer_x\n",
    "data_2017_first_half['HoldingCompanyName'] = data_2017_first_half.HoldingCompanyName_y - data_2017_first_half.HoldingCompanyName_x\n",
    "data_2017_first_half['BoardbandBlocks'] = data_2017_first_half.BoardbandBlocks_y - data_2017_first_half.BoardbandBlocks_x\n",
    "data_2017_first_half['population'] = data_2017_first_half.NPOPCHG_2016\n",
    "data_2017_first_half = data_2017_first_half[['StateAbbr','avgaddown','avgadup','consumer','HoldingCompanyName','BoardbandBlocks','population']]\n",
    "model_data_2017_first_half = data_2017_first_half[['avgaddown','avgadup','consumer','HoldingCompanyName','BoardbandBlocks','population']]\n",
    "scaled_data = preprocessing.MaxAbsScaler().fit_transform(model_data_2017_first_half)\n",
    "Kmean = KMeans(n_clusters=2)\n",
    "Kmean.fit(scaled_data)\n",
    "data_2017_first_half['group']=Kmean.labels_\n",
    "Kmean.cluster_centers_"
   ]
  },
  {
   "cell_type": "code",
   "execution_count": 106,
   "metadata": {},
   "outputs": [
    {
     "data": {
      "text/plain": [
       "array([[ 0.30887148,  0.18290584, -0.01235221, -0.16666667,  0.05158241,\n",
       "         0.06411145],\n",
       "       [ 0.13100657,  0.09068898,  0.05840487,  0.34920635,  0.24247203,\n",
       "         0.16500672]])"
      ]
     },
     "execution_count": 106,
     "metadata": {},
     "output_type": "execute_result"
    }
   ],
   "source": [
    "data_2017_second_half=pd.merge(data_2017_6,data_2017_12, on = 'StateAbbr', how = 'outer')\n",
    "data_2017_second_half = data_2017_second_half.fillna(0)\n",
    "data_2017_second_half = pd.merge(data_2017_second_half,temp4, on = 'StateAbbr', how = 'inner')\n",
    "data_2017_second_half['avgaddown'] = data_2017_second_half.avgaddown_y - data_2017_second_half.avgaddown_x\n",
    "data_2017_second_half['avgadup'] = data_2017_second_half.avgadup_y - data_2017_second_half.avgadup_x\n",
    "data_2017_second_half['consumer'] = data_2017_second_half.consumer_y -data_2017_second_half.consumer_x\n",
    "data_2017_second_half['HoldingCompanyName'] = data_2017_second_half.HoldingCompanyName_y - data_2017_second_half.HoldingCompanyName_x\n",
    "data_2017_second_half['BoardbandBlocks'] = data_2017_second_half.BoardbandBlocks_y - data_2017_second_half.BoardbandBlocks_x\n",
    "data_2017_second_half['population'] = data_2017_second_half.NPOPCHG_2017\n",
    "data_2017_second_half = data_2017_second_half[['StateAbbr','avgaddown','avgadup','consumer','HoldingCompanyName','BoardbandBlocks','population']]\n",
    "model_data_2017_second_half = data_2017_second_half[['avgaddown','avgadup','consumer','HoldingCompanyName','BoardbandBlocks','population']]\n",
    "scaled_data = preprocessing.MaxAbsScaler().fit_transform(model_data_2017_second_half)\n",
    "Kmean = KMeans(n_clusters=2)\n",
    "Kmean.fit(scaled_data)\n",
    "data_2017_second_half['group']=Kmean.labels_\n",
    "Kmean.cluster_centers_"
   ]
  },
  {
   "cell_type": "code",
   "execution_count": 107,
   "metadata": {},
   "outputs": [
    {
     "data": {
      "text/plain": [
       "array([[ 0.27840786,  0.12963106, -0.080268  , -0.17816092, -0.00076361,\n",
       "         0.04025672],\n",
       "       [-0.01034401, -0.06020678, -0.05504865,  0.21969697,  0.12006519,\n",
       "         0.18915439]])"
      ]
     },
     "execution_count": 107,
     "metadata": {},
     "output_type": "execute_result"
    }
   ],
   "source": [
    "data_2018_first_half=pd.merge(data_2017_12,data_2018_6, on = 'StateAbbr', how = 'outer')\n",
    "data_2018_first_half = data_2018_first_half.fillna(0)\n",
    "data_2018_first_half = pd.merge(data_2018_first_half,temp4, on = 'StateAbbr', how = 'inner')\n",
    "data_2018_first_half['avgaddown'] = data_2018_first_half.avgaddown_y - data_2018_first_half.avgaddown_x\n",
    "data_2018_first_half['avgadup'] = data_2018_first_half.avgadup_y - data_2018_first_half.avgadup_x\n",
    "data_2018_first_half['consumer'] = data_2018_first_half.consumer_y -data_2018_first_half.consumer_x\n",
    "data_2018_first_half['HoldingCompanyName'] = data_2018_first_half.HoldingCompanyName_y - data_2018_first_half.HoldingCompanyName_x\n",
    "data_2018_first_half['BoardbandBlocks'] = data_2018_first_half.BoardbandBlocks_y - data_2018_first_half.BoardbandBlocks_x\n",
    "data_2018_first_half['population'] = data_2018_first_half.NPOPCHG_2018\n",
    "data_2018_first_half = data_2018_first_half[['StateAbbr','avgaddown','avgadup','consumer','HoldingCompanyName','BoardbandBlocks','population']]\n",
    "model_data_2018_first_half = data_2018_first_half[['avgaddown','avgadup','consumer','HoldingCompanyName','BoardbandBlocks','population']]\n",
    "scaled_data = preprocessing.MaxAbsScaler().fit_transform(model_data_2018_first_half)\n",
    "Kmean = KMeans(n_clusters=2)\n",
    "Kmean.fit(scaled_data)\n",
    "data_2018_first_half['group']=Kmean.labels_\n",
    "Kmean.cluster_centers_"
   ]
  },
  {
   "cell_type": "code",
   "execution_count": 108,
   "metadata": {},
   "outputs": [],
   "source": [
    "data_2015_first_half_group = data_2015[['StateAbbr','group']]\n",
    "data_2015_second_half_group = data_2015_second_half[['StateAbbr','group']]\n",
    "data_2016_first_half_group = data_2016_first_half[['StateAbbr','group']]\n",
    "data_2016_second_half_group = data_2016_second_half[['StateAbbr','group']]\n",
    "data_2017_first_half_group = data_2017_first_half[['StateAbbr','group']]\n",
    "data_2017_second_half_group = data_2017_second_half[['StateAbbr','group']]\n",
    "data_2018_first_half_group = data_2018_first_half[['StateAbbr','group']]\n",
    "\n",
    "data_total = pd.merge(data_2015_first_half_group,data_2015_second_half_group, on = 'StateAbbr', how = 'outer')\n",
    "data_total=data_total[['StateAbbr','group_x','group_y']]\n",
    "data_total=data_total.rename(columns={\"group_x\": \"2015_first_half\", \"group_y\": \"2015_second_half\"})\n",
    "data_total = pd.merge(data_total,data_2016_first_half_group, on = 'StateAbbr', how = 'outer')\n",
    "data_total=data_total.rename(columns={\"group\": \"2016_first_half\"})\n",
    "data_total = pd.merge(data_total,data_2016_second_half_group, on = 'StateAbbr', how = 'outer')\n",
    "data_total=data_total.rename(columns={\"group\": \"2016_second_half\"})\n",
    "data_total = pd.merge(data_total,data_2017_first_half_group, on = 'StateAbbr', how = 'outer')\n",
    "data_total=data_total.rename(columns={\"group\": \"2017_first_half\"})\n",
    "data_total = pd.merge(data_total,data_2017_second_half_group, on = 'StateAbbr', how = 'outer')\n",
    "data_total=data_total.rename(columns={\"group\": \"2017_second_half\"})\n",
    "data_total = pd.merge(data_total,data_2018_first_half_group, on = 'StateAbbr', how = 'outer')\n",
    "data_total=data_total.rename(columns={\"group\": \"2018_first_half\"})"
   ]
  },
  {
   "cell_type": "code",
   "execution_count": 109,
   "metadata": {},
   "outputs": [],
   "source": [
    "data_total.to_csv('data_group_new_state_level.csv',index=False)"
   ]
  }
 ],
 "metadata": {
  "kernelspec": {
   "display_name": "py36",
   "language": "python",
   "name": "py36"
  },
  "language_info": {
   "codemirror_mode": {
    "name": "ipython",
    "version": 3
   },
   "file_extension": ".py",
   "mimetype": "text/x-python",
   "name": "python",
   "nbconvert_exporter": "python",
   "pygments_lexer": "ipython3",
   "version": "3.6.8"
  }
 },
 "nbformat": 4,
 "nbformat_minor": 2
}
